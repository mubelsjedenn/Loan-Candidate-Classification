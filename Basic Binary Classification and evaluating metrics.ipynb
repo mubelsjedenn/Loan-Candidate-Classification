{
 "cells": [
  {
   "cell_type": "code",
   "execution_count": 342,
   "metadata": {},
   "outputs": [],
   "source": [
    "import pandas as pd\n",
    "import seaborn as sns\n",
    "import matplotlib.pyplot as plt\n",
    "from sklearn.linear_model import LogisticRegression\n",
    "from sklearn.model_selection import train_test_split,cross_val_score,KFold\n",
    "from sklearn.metrics import classification_report,confusion_matrix,make_scorer,roc_curve,SCORERS,recall_score,precision_score,roc_auc_score\n",
    "from sklearn.discriminant_analysis import LinearDiscriminantAnalysis,QuadraticDiscriminantAnalysis\n",
    "from sklearn.naive_bayes import GaussianNB\n",
    "from sklearn.preprocessing import binarize\n",
    "from sklearn.neighbors import KNeighborsClassifier\n",
    "from sklearn.ensemble import RandomForestClassifier\n",
    "from sklearn.svm import SVC,SVR\n",
    "import warnings\n",
    "warnings.filterwarnings('ignore')\n",
    "% matplotlib inline"
   ]
  },
  {
   "cell_type": "code",
   "execution_count": 2,
   "metadata": {},
   "outputs": [],
   "source": [
    "df=pd.read_csv(r'C:\\Users\\MUKU\\Desktop\\Python\\Data sets\\Untitled Folder\\dataset_31_credit-g.csv')"
   ]
  },
  {
   "cell_type": "code",
   "execution_count": 3,
   "metadata": {},
   "outputs": [
    {
     "data": {
      "text/html": [
       "<div>\n",
       "<style scoped>\n",
       "    .dataframe tbody tr th:only-of-type {\n",
       "        vertical-align: middle;\n",
       "    }\n",
       "\n",
       "    .dataframe tbody tr th {\n",
       "        vertical-align: top;\n",
       "    }\n",
       "\n",
       "    .dataframe thead th {\n",
       "        text-align: right;\n",
       "    }\n",
       "</style>\n",
       "<table border=\"1\" class=\"dataframe\">\n",
       "  <thead>\n",
       "    <tr style=\"text-align: right;\">\n",
       "      <th></th>\n",
       "      <th>checking_status</th>\n",
       "      <th>duration</th>\n",
       "      <th>credit_history</th>\n",
       "      <th>purpose</th>\n",
       "      <th>credit_amount</th>\n",
       "      <th>savings_status</th>\n",
       "      <th>employment</th>\n",
       "      <th>installment_commitment</th>\n",
       "      <th>personal_status</th>\n",
       "      <th>other_parties</th>\n",
       "      <th>...</th>\n",
       "      <th>property_magnitude</th>\n",
       "      <th>age</th>\n",
       "      <th>other_payment_plans</th>\n",
       "      <th>housing</th>\n",
       "      <th>existing_credits</th>\n",
       "      <th>job</th>\n",
       "      <th>num_dependents</th>\n",
       "      <th>own_telephone</th>\n",
       "      <th>foreign_worker</th>\n",
       "      <th>class</th>\n",
       "    </tr>\n",
       "  </thead>\n",
       "  <tbody>\n",
       "    <tr>\n",
       "      <th>343</th>\n",
       "      <td>'0&lt;=X&lt;200'</td>\n",
       "      <td>18</td>\n",
       "      <td>'existing paid'</td>\n",
       "      <td>business</td>\n",
       "      <td>4439</td>\n",
       "      <td>'&lt;100'</td>\n",
       "      <td>'&gt;=7'</td>\n",
       "      <td>1</td>\n",
       "      <td>'male single'</td>\n",
       "      <td>'co applicant'</td>\n",
       "      <td>...</td>\n",
       "      <td>'real estate'</td>\n",
       "      <td>33</td>\n",
       "      <td>bank</td>\n",
       "      <td>own</td>\n",
       "      <td>1</td>\n",
       "      <td>'high qualif/self emp/mgmt'</td>\n",
       "      <td>1</td>\n",
       "      <td>yes</td>\n",
       "      <td>yes</td>\n",
       "      <td>good</td>\n",
       "    </tr>\n",
       "    <tr>\n",
       "      <th>559</th>\n",
       "      <td>'0&lt;=X&lt;200'</td>\n",
       "      <td>18</td>\n",
       "      <td>'critical/other existing credit'</td>\n",
       "      <td>furniture/equipment</td>\n",
       "      <td>1928</td>\n",
       "      <td>'&lt;100'</td>\n",
       "      <td>'&lt;1'</td>\n",
       "      <td>2</td>\n",
       "      <td>'male single'</td>\n",
       "      <td>none</td>\n",
       "      <td>...</td>\n",
       "      <td>'real estate'</td>\n",
       "      <td>31</td>\n",
       "      <td>none</td>\n",
       "      <td>own</td>\n",
       "      <td>2</td>\n",
       "      <td>'unskilled resident'</td>\n",
       "      <td>1</td>\n",
       "      <td>none</td>\n",
       "      <td>yes</td>\n",
       "      <td>bad</td>\n",
       "    </tr>\n",
       "    <tr>\n",
       "      <th>283</th>\n",
       "      <td>'no checking'</td>\n",
       "      <td>15</td>\n",
       "      <td>'critical/other existing credit'</td>\n",
       "      <td>furniture/equipment</td>\n",
       "      <td>1520</td>\n",
       "      <td>'no known savings'</td>\n",
       "      <td>'&gt;=7'</td>\n",
       "      <td>4</td>\n",
       "      <td>'male single'</td>\n",
       "      <td>none</td>\n",
       "      <td>...</td>\n",
       "      <td>'life insurance'</td>\n",
       "      <td>63</td>\n",
       "      <td>none</td>\n",
       "      <td>own</td>\n",
       "      <td>1</td>\n",
       "      <td>skilled</td>\n",
       "      <td>1</td>\n",
       "      <td>none</td>\n",
       "      <td>yes</td>\n",
       "      <td>good</td>\n",
       "    </tr>\n",
       "    <tr>\n",
       "      <th>823</th>\n",
       "      <td>'&lt;0'</td>\n",
       "      <td>8</td>\n",
       "      <td>'critical/other existing credit'</td>\n",
       "      <td>'new car'</td>\n",
       "      <td>731</td>\n",
       "      <td>'&lt;100'</td>\n",
       "      <td>'&gt;=7'</td>\n",
       "      <td>4</td>\n",
       "      <td>'male single'</td>\n",
       "      <td>none</td>\n",
       "      <td>...</td>\n",
       "      <td>'real estate'</td>\n",
       "      <td>47</td>\n",
       "      <td>none</td>\n",
       "      <td>own</td>\n",
       "      <td>2</td>\n",
       "      <td>'unskilled resident'</td>\n",
       "      <td>1</td>\n",
       "      <td>none</td>\n",
       "      <td>yes</td>\n",
       "      <td>good</td>\n",
       "    </tr>\n",
       "    <tr>\n",
       "      <th>112</th>\n",
       "      <td>'0&lt;=X&lt;200'</td>\n",
       "      <td>18</td>\n",
       "      <td>'existing paid'</td>\n",
       "      <td>'new car'</td>\n",
       "      <td>6260</td>\n",
       "      <td>'&lt;100'</td>\n",
       "      <td>'4&lt;=X&lt;7'</td>\n",
       "      <td>3</td>\n",
       "      <td>'male single'</td>\n",
       "      <td>none</td>\n",
       "      <td>...</td>\n",
       "      <td>'real estate'</td>\n",
       "      <td>28</td>\n",
       "      <td>none</td>\n",
       "      <td>rent</td>\n",
       "      <td>1</td>\n",
       "      <td>'unskilled resident'</td>\n",
       "      <td>1</td>\n",
       "      <td>none</td>\n",
       "      <td>yes</td>\n",
       "      <td>good</td>\n",
       "    </tr>\n",
       "    <tr>\n",
       "      <th>754</th>\n",
       "      <td>'no checking'</td>\n",
       "      <td>12</td>\n",
       "      <td>'delayed previously'</td>\n",
       "      <td>repairs</td>\n",
       "      <td>1555</td>\n",
       "      <td>'&gt;=1000'</td>\n",
       "      <td>'&gt;=7'</td>\n",
       "      <td>4</td>\n",
       "      <td>'male single'</td>\n",
       "      <td>none</td>\n",
       "      <td>...</td>\n",
       "      <td>'no known property'</td>\n",
       "      <td>55</td>\n",
       "      <td>none</td>\n",
       "      <td>'for free'</td>\n",
       "      <td>2</td>\n",
       "      <td>skilled</td>\n",
       "      <td>2</td>\n",
       "      <td>none</td>\n",
       "      <td>yes</td>\n",
       "      <td>bad</td>\n",
       "    </tr>\n",
       "    <tr>\n",
       "      <th>862</th>\n",
       "      <td>'&lt;0'</td>\n",
       "      <td>24</td>\n",
       "      <td>'existing paid'</td>\n",
       "      <td>radio/tv</td>\n",
       "      <td>2439</td>\n",
       "      <td>'&lt;100'</td>\n",
       "      <td>'&lt;1'</td>\n",
       "      <td>4</td>\n",
       "      <td>'female div/dep/mar'</td>\n",
       "      <td>none</td>\n",
       "      <td>...</td>\n",
       "      <td>'real estate'</td>\n",
       "      <td>35</td>\n",
       "      <td>none</td>\n",
       "      <td>own</td>\n",
       "      <td>1</td>\n",
       "      <td>skilled</td>\n",
       "      <td>1</td>\n",
       "      <td>yes</td>\n",
       "      <td>yes</td>\n",
       "      <td>bad</td>\n",
       "    </tr>\n",
       "    <tr>\n",
       "      <th>614</th>\n",
       "      <td>'no checking'</td>\n",
       "      <td>18</td>\n",
       "      <td>'delayed previously'</td>\n",
       "      <td>furniture/equipment</td>\n",
       "      <td>1808</td>\n",
       "      <td>'&lt;100'</td>\n",
       "      <td>'4&lt;=X&lt;7'</td>\n",
       "      <td>4</td>\n",
       "      <td>'female div/dep/mar'</td>\n",
       "      <td>none</td>\n",
       "      <td>...</td>\n",
       "      <td>'real estate'</td>\n",
       "      <td>22</td>\n",
       "      <td>none</td>\n",
       "      <td>own</td>\n",
       "      <td>1</td>\n",
       "      <td>skilled</td>\n",
       "      <td>1</td>\n",
       "      <td>none</td>\n",
       "      <td>yes</td>\n",
       "      <td>bad</td>\n",
       "    </tr>\n",
       "    <tr>\n",
       "      <th>938</th>\n",
       "      <td>'0&lt;=X&lt;200'</td>\n",
       "      <td>60</td>\n",
       "      <td>'existing paid'</td>\n",
       "      <td>education</td>\n",
       "      <td>6288</td>\n",
       "      <td>'&lt;100'</td>\n",
       "      <td>'1&lt;=X&lt;4'</td>\n",
       "      <td>4</td>\n",
       "      <td>'male single'</td>\n",
       "      <td>none</td>\n",
       "      <td>...</td>\n",
       "      <td>'no known property'</td>\n",
       "      <td>42</td>\n",
       "      <td>none</td>\n",
       "      <td>'for free'</td>\n",
       "      <td>1</td>\n",
       "      <td>skilled</td>\n",
       "      <td>1</td>\n",
       "      <td>none</td>\n",
       "      <td>yes</td>\n",
       "      <td>bad</td>\n",
       "    </tr>\n",
       "    <tr>\n",
       "      <th>722</th>\n",
       "      <td>'&lt;0'</td>\n",
       "      <td>12</td>\n",
       "      <td>'existing paid'</td>\n",
       "      <td>'new car'</td>\n",
       "      <td>1228</td>\n",
       "      <td>'&lt;100'</td>\n",
       "      <td>'1&lt;=X&lt;4'</td>\n",
       "      <td>4</td>\n",
       "      <td>'female div/dep/mar'</td>\n",
       "      <td>none</td>\n",
       "      <td>...</td>\n",
       "      <td>'real estate'</td>\n",
       "      <td>24</td>\n",
       "      <td>none</td>\n",
       "      <td>own</td>\n",
       "      <td>1</td>\n",
       "      <td>'unskilled resident'</td>\n",
       "      <td>1</td>\n",
       "      <td>none</td>\n",
       "      <td>yes</td>\n",
       "      <td>bad</td>\n",
       "    </tr>\n",
       "  </tbody>\n",
       "</table>\n",
       "<p>10 rows × 21 columns</p>\n",
       "</div>"
      ],
      "text/plain": [
       "    checking_status  duration                    credit_history  \\\n",
       "343      '0<=X<200'        18                   'existing paid'   \n",
       "559      '0<=X<200'        18  'critical/other existing credit'   \n",
       "283   'no checking'        15  'critical/other existing credit'   \n",
       "823            '<0'         8  'critical/other existing credit'   \n",
       "112      '0<=X<200'        18                   'existing paid'   \n",
       "754   'no checking'        12              'delayed previously'   \n",
       "862            '<0'        24                   'existing paid'   \n",
       "614   'no checking'        18              'delayed previously'   \n",
       "938      '0<=X<200'        60                   'existing paid'   \n",
       "722            '<0'        12                   'existing paid'   \n",
       "\n",
       "                 purpose  credit_amount      savings_status employment  \\\n",
       "343             business           4439              '<100'      '>=7'   \n",
       "559  furniture/equipment           1928              '<100'       '<1'   \n",
       "283  furniture/equipment           1520  'no known savings'      '>=7'   \n",
       "823            'new car'            731              '<100'      '>=7'   \n",
       "112            'new car'           6260              '<100'   '4<=X<7'   \n",
       "754              repairs           1555            '>=1000'      '>=7'   \n",
       "862             radio/tv           2439              '<100'       '<1'   \n",
       "614  furniture/equipment           1808              '<100'   '4<=X<7'   \n",
       "938            education           6288              '<100'   '1<=X<4'   \n",
       "722            'new car'           1228              '<100'   '1<=X<4'   \n",
       "\n",
       "     installment_commitment       personal_status   other_parties  ...  \\\n",
       "343                       1         'male single'  'co applicant'  ...   \n",
       "559                       2         'male single'            none  ...   \n",
       "283                       4         'male single'            none  ...   \n",
       "823                       4         'male single'            none  ...   \n",
       "112                       3         'male single'            none  ...   \n",
       "754                       4         'male single'            none  ...   \n",
       "862                       4  'female div/dep/mar'            none  ...   \n",
       "614                       4  'female div/dep/mar'            none  ...   \n",
       "938                       4         'male single'            none  ...   \n",
       "722                       4  'female div/dep/mar'            none  ...   \n",
       "\n",
       "      property_magnitude age  other_payment_plans     housing  \\\n",
       "343        'real estate'  33                 bank         own   \n",
       "559        'real estate'  31                 none         own   \n",
       "283     'life insurance'  63                 none         own   \n",
       "823        'real estate'  47                 none         own   \n",
       "112        'real estate'  28                 none        rent   \n",
       "754  'no known property'  55                 none  'for free'   \n",
       "862        'real estate'  35                 none         own   \n",
       "614        'real estate'  22                 none         own   \n",
       "938  'no known property'  42                 none  'for free'   \n",
       "722        'real estate'  24                 none         own   \n",
       "\n",
       "    existing_credits                          job num_dependents  \\\n",
       "343                1  'high qualif/self emp/mgmt'              1   \n",
       "559                2         'unskilled resident'              1   \n",
       "283                1                      skilled              1   \n",
       "823                2         'unskilled resident'              1   \n",
       "112                1         'unskilled resident'              1   \n",
       "754                2                      skilled              2   \n",
       "862                1                      skilled              1   \n",
       "614                1                      skilled              1   \n",
       "938                1                      skilled              1   \n",
       "722                1         'unskilled resident'              1   \n",
       "\n",
       "     own_telephone foreign_worker class  \n",
       "343            yes            yes  good  \n",
       "559           none            yes   bad  \n",
       "283           none            yes  good  \n",
       "823           none            yes  good  \n",
       "112           none            yes  good  \n",
       "754           none            yes   bad  \n",
       "862            yes            yes   bad  \n",
       "614           none            yes   bad  \n",
       "938           none            yes   bad  \n",
       "722           none            yes   bad  \n",
       "\n",
       "[10 rows x 21 columns]"
      ]
     },
     "execution_count": 3,
     "metadata": {},
     "output_type": "execute_result"
    }
   ],
   "source": [
    "df.sample(10)"
   ]
  },
  {
   "cell_type": "code",
   "execution_count": 4,
   "metadata": {},
   "outputs": [
    {
     "name": "stdout",
     "output_type": "stream",
     "text": [
      "<class 'pandas.core.frame.DataFrame'>\n",
      "RangeIndex: 1000 entries, 0 to 999\n",
      "Data columns (total 21 columns):\n",
      "checking_status           1000 non-null object\n",
      "duration                  1000 non-null int64\n",
      "credit_history            1000 non-null object\n",
      "purpose                   1000 non-null object\n",
      "credit_amount             1000 non-null int64\n",
      "savings_status            1000 non-null object\n",
      "employment                1000 non-null object\n",
      "installment_commitment    1000 non-null int64\n",
      "personal_status           1000 non-null object\n",
      "other_parties             1000 non-null object\n",
      "residence_since           1000 non-null int64\n",
      "property_magnitude        1000 non-null object\n",
      "age                       1000 non-null int64\n",
      "other_payment_plans       1000 non-null object\n",
      "housing                   1000 non-null object\n",
      "existing_credits          1000 non-null int64\n",
      "job                       1000 non-null object\n",
      "num_dependents            1000 non-null int64\n",
      "own_telephone             1000 non-null object\n",
      "foreign_worker            1000 non-null object\n",
      "class                     1000 non-null object\n",
      "dtypes: int64(7), object(14)\n",
      "memory usage: 164.1+ KB\n"
     ]
    }
   ],
   "source": [
    "df.info()"
   ]
  },
  {
   "cell_type": "code",
   "execution_count": 5,
   "metadata": {},
   "outputs": [
    {
     "data": {
      "text/html": [
       "<div>\n",
       "<style scoped>\n",
       "    .dataframe tbody tr th:only-of-type {\n",
       "        vertical-align: middle;\n",
       "    }\n",
       "\n",
       "    .dataframe tbody tr th {\n",
       "        vertical-align: top;\n",
       "    }\n",
       "\n",
       "    .dataframe thead th {\n",
       "        text-align: right;\n",
       "    }\n",
       "</style>\n",
       "<table border=\"1\" class=\"dataframe\">\n",
       "  <thead>\n",
       "    <tr style=\"text-align: right;\">\n",
       "      <th></th>\n",
       "      <th>duration</th>\n",
       "      <th>credit_amount</th>\n",
       "      <th>installment_commitment</th>\n",
       "      <th>residence_since</th>\n",
       "      <th>age</th>\n",
       "      <th>existing_credits</th>\n",
       "      <th>num_dependents</th>\n",
       "    </tr>\n",
       "  </thead>\n",
       "  <tbody>\n",
       "    <tr>\n",
       "      <th>count</th>\n",
       "      <td>1000.000000</td>\n",
       "      <td>1000.000000</td>\n",
       "      <td>1000.000000</td>\n",
       "      <td>1000.000000</td>\n",
       "      <td>1000.000000</td>\n",
       "      <td>1000.000000</td>\n",
       "      <td>1000.000000</td>\n",
       "    </tr>\n",
       "    <tr>\n",
       "      <th>mean</th>\n",
       "      <td>20.903000</td>\n",
       "      <td>3271.258000</td>\n",
       "      <td>2.973000</td>\n",
       "      <td>2.845000</td>\n",
       "      <td>35.546000</td>\n",
       "      <td>1.407000</td>\n",
       "      <td>1.155000</td>\n",
       "    </tr>\n",
       "    <tr>\n",
       "      <th>std</th>\n",
       "      <td>12.058814</td>\n",
       "      <td>2822.736876</td>\n",
       "      <td>1.118715</td>\n",
       "      <td>1.103718</td>\n",
       "      <td>11.375469</td>\n",
       "      <td>0.577654</td>\n",
       "      <td>0.362086</td>\n",
       "    </tr>\n",
       "    <tr>\n",
       "      <th>min</th>\n",
       "      <td>4.000000</td>\n",
       "      <td>250.000000</td>\n",
       "      <td>1.000000</td>\n",
       "      <td>1.000000</td>\n",
       "      <td>19.000000</td>\n",
       "      <td>1.000000</td>\n",
       "      <td>1.000000</td>\n",
       "    </tr>\n",
       "    <tr>\n",
       "      <th>25%</th>\n",
       "      <td>12.000000</td>\n",
       "      <td>1365.500000</td>\n",
       "      <td>2.000000</td>\n",
       "      <td>2.000000</td>\n",
       "      <td>27.000000</td>\n",
       "      <td>1.000000</td>\n",
       "      <td>1.000000</td>\n",
       "    </tr>\n",
       "    <tr>\n",
       "      <th>50%</th>\n",
       "      <td>18.000000</td>\n",
       "      <td>2319.500000</td>\n",
       "      <td>3.000000</td>\n",
       "      <td>3.000000</td>\n",
       "      <td>33.000000</td>\n",
       "      <td>1.000000</td>\n",
       "      <td>1.000000</td>\n",
       "    </tr>\n",
       "    <tr>\n",
       "      <th>75%</th>\n",
       "      <td>24.000000</td>\n",
       "      <td>3972.250000</td>\n",
       "      <td>4.000000</td>\n",
       "      <td>4.000000</td>\n",
       "      <td>42.000000</td>\n",
       "      <td>2.000000</td>\n",
       "      <td>1.000000</td>\n",
       "    </tr>\n",
       "    <tr>\n",
       "      <th>max</th>\n",
       "      <td>72.000000</td>\n",
       "      <td>18424.000000</td>\n",
       "      <td>4.000000</td>\n",
       "      <td>4.000000</td>\n",
       "      <td>75.000000</td>\n",
       "      <td>4.000000</td>\n",
       "      <td>2.000000</td>\n",
       "    </tr>\n",
       "  </tbody>\n",
       "</table>\n",
       "</div>"
      ],
      "text/plain": [
       "          duration  credit_amount  installment_commitment  residence_since  \\\n",
       "count  1000.000000    1000.000000             1000.000000      1000.000000   \n",
       "mean     20.903000    3271.258000                2.973000         2.845000   \n",
       "std      12.058814    2822.736876                1.118715         1.103718   \n",
       "min       4.000000     250.000000                1.000000         1.000000   \n",
       "25%      12.000000    1365.500000                2.000000         2.000000   \n",
       "50%      18.000000    2319.500000                3.000000         3.000000   \n",
       "75%      24.000000    3972.250000                4.000000         4.000000   \n",
       "max      72.000000   18424.000000                4.000000         4.000000   \n",
       "\n",
       "               age  existing_credits  num_dependents  \n",
       "count  1000.000000       1000.000000     1000.000000  \n",
       "mean     35.546000          1.407000        1.155000  \n",
       "std      11.375469          0.577654        0.362086  \n",
       "min      19.000000          1.000000        1.000000  \n",
       "25%      27.000000          1.000000        1.000000  \n",
       "50%      33.000000          1.000000        1.000000  \n",
       "75%      42.000000          2.000000        1.000000  \n",
       "max      75.000000          4.000000        2.000000  "
      ]
     },
     "execution_count": 5,
     "metadata": {},
     "output_type": "execute_result"
    }
   ],
   "source": [
    "df.describe()"
   ]
  },
  {
   "cell_type": "code",
   "execution_count": 6,
   "metadata": {},
   "outputs": [
    {
     "name": "stdout",
     "output_type": "stream",
     "text": [
      "duration 33\n",
      "credit_amount 921\n",
      "installment_commitment 4\n",
      "residence_since 4\n",
      "age 53\n",
      "existing_credits 4\n",
      "num_dependents 2\n"
     ]
    }
   ],
   "source": [
    "# code to check if these values are truly numerical or categorical encoded as numerical\n",
    "cols=df.describe().columns\n",
    "for col in cols:\n",
    "    print(col,df[col].nunique())"
   ]
  },
  {
   "cell_type": "code",
   "execution_count": 7,
   "metadata": {},
   "outputs": [],
   "source": [
    "#numerical columns\n",
    "num_cols=['duration','credit_amount','age']\n",
    "#rest all columns\n",
    "rest_cols=df.columns[~df.columns.isin(df[num_cols].columns)]"
   ]
  },
  {
   "cell_type": "code",
   "execution_count": 8,
   "metadata": {},
   "outputs": [
    {
     "name": "stdout",
     "output_type": "stream",
     "text": [
      "checking_status 4\n",
      "credit_history 5\n",
      "purpose 10\n",
      "savings_status 5\n",
      "employment 5\n",
      "installment_commitment 4\n",
      "personal_status 4\n",
      "other_parties 3\n",
      "residence_since 4\n",
      "property_magnitude 4\n",
      "other_payment_plans 3\n",
      "housing 3\n",
      "existing_credits 4\n",
      "job 4\n",
      "num_dependents 2\n",
      "own_telephone 2\n",
      "foreign_worker 2\n",
      "class 2\n"
     ]
    }
   ],
   "source": [
    "for col in rest_cols:\n",
    "    print(col,df[col].nunique())"
   ]
  },
  {
   "cell_type": "code",
   "execution_count": 62,
   "metadata": {},
   "outputs": [],
   "source": [
    "#removing the target/dependant variable from all the variables.\n",
    "cat_cols=df[df.columns].iloc[:,:-1].columns"
   ]
  },
  {
   "cell_type": "code",
   "execution_count": 239,
   "metadata": {},
   "outputs": [],
   "source": [
    "X=pd.get_dummies(df[cat_cols],drop_first=True)\n",
    "y=df['class'].apply(lambda x:1 if x=='bad' else 0)"
   ]
  },
  {
   "cell_type": "code",
   "execution_count": 240,
   "metadata": {},
   "outputs": [],
   "source": [
    "X_train, X_test, y_train, y_test = train_test_split(X, y, test_size=0.33, random_state=42)"
   ]
  },
  {
   "cell_type": "code",
   "execution_count": 241,
   "metadata": {},
   "outputs": [],
   "source": [
    "def class_n_conf(model):\n",
    "    model.fit(X_train,y_train)\n",
    "    preds=model.predict(X_test)\n",
    "    conf_mat=pd.crosstab(y_test, preds, rownames=['Predicted'], colnames=['True'])\n",
    "    print(str(model).split('(')[0])\n",
    "    print('\\n')\n",
    "    print(conf_mat)\n",
    "    print('------------------------------------------------------------------------------------')\n",
    "    print('\\n')"
   ]
  },
  {
   "cell_type": "code",
   "execution_count": 280,
   "metadata": {},
   "outputs": [],
   "source": [
    "lg=LogisticRegression(random_state=42)\n",
    "gnb=GaussianNB()\n",
    "knn=KNeighborsClassifier()\n",
    "rfc=RandomForestClassifier(n_estimators=1000,random_state=42,max_depth=5,max_features=20)\n",
    "lda=LinearDiscriminantAnalysis()\n",
    "qda=QuadraticDiscriminantAnalysis(reg_param=0.001)\n",
    "svc=SVC(random_state=42,tol=0.0001)\n",
    "model_list=[lg,gnb,knn,rfc,lda,qda,svc]"
   ]
  },
  {
   "cell_type": "code",
   "execution_count": 281,
   "metadata": {
    "scrolled": false
   },
   "outputs": [
    {
     "name": "stdout",
     "output_type": "stream",
     "text": [
      "LogisticRegression\n",
      "\n",
      "\n",
      "True         0   1\n",
      "Predicted         \n",
      "0          208  21\n",
      "1           54  47\n",
      "------------------------------------------------------------------------------------\n",
      "\n",
      "\n",
      "GaussianNB\n",
      "\n",
      "\n",
      "True         0   1\n",
      "Predicted         \n",
      "0          174  55\n",
      "1           31  70\n",
      "------------------------------------------------------------------------------------\n",
      "\n",
      "\n",
      "KNeighborsClassifier\n",
      "\n",
      "\n",
      "True         0   1\n",
      "Predicted         \n",
      "0          195  34\n",
      "1           81  20\n",
      "------------------------------------------------------------------------------------\n",
      "\n",
      "\n",
      "RandomForestClassifier\n",
      "\n",
      "\n",
      "True         0   1\n",
      "Predicted         \n",
      "0          217  12\n",
      "1           73  28\n",
      "------------------------------------------------------------------------------------\n",
      "\n",
      "\n",
      "LinearDiscriminantAnalysis\n",
      "\n",
      "\n",
      "True         0   1\n",
      "Predicted         \n",
      "0          204  25\n",
      "1           50  51\n",
      "------------------------------------------------------------------------------------\n",
      "\n",
      "\n",
      "QuadraticDiscriminantAnalysis\n",
      "\n",
      "\n",
      "True         0   1\n",
      "Predicted         \n",
      "0          184  45\n",
      "1           43  58\n",
      "------------------------------------------------------------------------------------\n",
      "\n",
      "\n",
      "SVC\n",
      "\n",
      "\n",
      "True         0\n",
      "Predicted     \n",
      "0          229\n",
      "1          101\n",
      "------------------------------------------------------------------------------------\n",
      "\n",
      "\n"
     ]
    }
   ],
   "source": [
    "for model in model_list:\n",
    "    (class_n_conf(model))"
   ]
  },
  {
   "cell_type": "markdown",
   "metadata": {},
   "source": [
    "# Understanding the Confusion Matrix:\n",
    "\n",
    "1) Corrects:\n",
    "-  True Positives: People we predicted as good and they were actually good.\n",
    "\n",
    "\n",
    "-  True Negative: People we predicted as bad and they were actually bad.\n",
    "\n",
    "\n",
    "2) Wrongs:\n",
    "-  False Positives: People we predicted as bad but are actually good this is also called Type I error.\n",
    "\n",
    "\n",
    "-  False Negatives: People we predicted as good but are actually bad this is also called Type II error.\n"
   ]
  },
  {
   "cell_type": "markdown",
   "metadata": {},
   "source": [
    "<img src=\"https://miro.medium.com/max/700/1*SAt7oTEaVIsUigtyiJyDJA.png\">"
   ]
  },
  {
   "cell_type": "markdown",
   "metadata": {},
   "source": [
    "## Defining what errors are of importance for our case.\n",
    "\n",
    "In such a case, one can be linient with making a **Type II error** where a good candidate is not given a loan. Although making a **Type I error** is something to be avoided, as giving a loan to someone(a false negative) who is most likely to default, is taking on an unnecessary risk. Hence we shall be using the model that made the least **Type I error**.\n",
    "\n",
    "**Note**: Ideally we would like to reduce both these error. As reducing oportunity cost is also an objective.\n",
    "\n",
    "The **RandomForestClassifier** algorithm gave us the best score as it had the least **Type I error**.\n",
    "\n",
    "As our main goal is to reduce the **Type I error**.\n",
    "\n",
    "Classification metrics that take into account the **Type I error** or **False Positive** are as follows:\n",
    "\n",
    "-  **Specificty** (How often are we correct about classifying the bad candidates)\n",
    "\n",
    "#### Specificity = True Negatives / (True Negatives+False Positives)\n",
    "\n",
    "-  **False Positive Rate** (1-Specificity) or (How wrong are we about classifying the bad candidates)\n",
    "\n",
    "#### False Positive Rate = False Positive / (True Negatives+False Positives)\n",
    "\n",
    "-  Precision (How Correct are we about classifying the good candidates)\n",
    "\n",
    "#### Precision = True Positive/(False Positive+True Positive)\n",
    "\n",
    "The score we would like to increase is **Specificity** as whenever a candidate is considered bad for a loan we would like to correctly classify such candidates.\n",
    "\n",
    "The only way this score can get higher is by reducing **False Positives**. Hence We use the **Specificity** metric for evaluation."
   ]
  },
  {
   "cell_type": "code",
   "execution_count": 282,
   "metadata": {},
   "outputs": [],
   "source": [
    "def specificity(y_true,y_preds):\n",
    "    tn,fp,fn,tp=confusion_matrix(y_true,y_preds).ravel()\n",
    "    return tn/(tn+fp)"
   ]
  },
  {
   "cell_type": "code",
   "execution_count": 283,
   "metadata": {},
   "outputs": [
    {
     "name": "stdout",
     "output_type": "stream",
     "text": [
      "LogisticRegression\n",
      "0.908\n",
      "\n",
      "\n",
      "GaussianNB\n",
      "0.76\n",
      "\n",
      "\n",
      "KNeighborsClassifier\n",
      "0.852\n",
      "\n",
      "\n",
      "RandomForestClassifier\n",
      "0.948\n",
      "\n",
      "\n",
      "LinearDiscriminantAnalysis\n",
      "0.891\n",
      "\n",
      "\n",
      "QuadraticDiscriminantAnalysis\n",
      "0.803\n",
      "\n",
      "\n",
      "SVC\n",
      "1.0\n",
      "\n",
      "\n"
     ]
    }
   ],
   "source": [
    "# calculating sensitivity or recall for all models.\n",
    "for model in model_list:\n",
    "    model.fit(X_train,y_train)\n",
    "    preds=model.predict(X_test)\n",
    "    print(str(model).split('(')[0])\n",
    "    print(round(specificity(y_test,preds),3))\n",
    "    print('\\n')"
   ]
  },
  {
   "cell_type": "markdown",
   "metadata": {},
   "source": [
    "Support Vector Classifier seems to have performed the best when it comes to making the least mistakes of classifying the bad candidates as good. This is justified by the high Specificity score.\n",
    "\n",
    "Similarly we can calculate precision as well."
   ]
  },
  {
   "cell_type": "code",
   "execution_count": 284,
   "metadata": {},
   "outputs": [
    {
     "name": "stdout",
     "output_type": "stream",
     "text": [
      "LogisticRegression\n",
      "0.69\n",
      "\n",
      "\n",
      "GaussianNB\n",
      "0.56\n",
      "\n",
      "\n",
      "KNeighborsClassifier\n",
      "0.37\n",
      "\n",
      "\n",
      "RandomForestClassifier\n",
      "0.7\n",
      "\n",
      "\n",
      "LinearDiscriminantAnalysis\n",
      "0.67\n",
      "\n",
      "\n",
      "QuadraticDiscriminantAnalysis\n",
      "0.56\n",
      "\n",
      "\n",
      "SVC\n",
      "0.0\n",
      "\n",
      "\n"
     ]
    }
   ],
   "source": [
    "for model in model_list:\n",
    "    model.fit(X_train,y_train)\n",
    "    preds=model.predict(X_test)\n",
    "    print(str(model).split('(')[0])\n",
    "    print(round(precision_score(y_test,preds),2))\n",
    "    print('\\n')"
   ]
  },
  {
   "cell_type": "markdown",
   "metadata": {},
   "source": [
    "Precision is a score we want to increase as well. This basically tells us how  our model did overally and in the context of making the least Type I error.\n",
    "\n",
    "In this case the RandomForestClassifier performed better as it was able to correctly predict which candidates were actually good compared to the total candidates that were good.\n",
    "\n",
    "Although the Support Vector Classifier performed \"well\" in classifying the bad candidates from the good, it more often than not was just assigning most candidates as either good or bad. It isnt really able to discern the true differences. This is due to overfitting.\n",
    "\n",
    "The SVC model in our case is like a person quick to jump to conclusions without taking the time and effort to do its research. Hence is just simply assigns it as either good or bad, without much thought. This is not something we want in our business to make decisions.\n",
    "\n",
    "Hence we select the Random Forest Classfier as it performs the best in both regards."
   ]
  },
  {
   "cell_type": "markdown",
   "metadata": {},
   "source": [
    "Using the specificty metric. Random Forest Classifier is the model with the highest specificity and hence this shall be the model to use for our purpose. As according to the Random Forest Classifier model we are able to predict the customers that are bad candidates correctly 95% of the time. This is acceptable as we leave only a  5% margin for error."
   ]
  },
  {
   "cell_type": "markdown",
   "metadata": {},
   "source": [
    "#### The logic behind classification is essentially to predict probabilities rather than predicting the actual class. For our case if the probability is above 0.5 it is classfied as good candidate and if it is below 0.5 it is a bad candidate.\n",
    "\n",
    "#### This value 0.5 is essentially a threshold that defines if a candidate is bad or good."
   ]
  },
  {
   "cell_type": "code",
   "execution_count": 298,
   "metadata": {},
   "outputs": [
    {
     "data": {
      "text/plain": [
       "<matplotlib.axes._subplots.AxesSubplot at 0x1d8dbadb780>"
      ]
     },
     "execution_count": 298,
     "metadata": {},
     "output_type": "execute_result"
    },
    {
     "data": {
      "image/png": "[encoded data removed]",
      "text/plain": [
       "<Figure size 432x288 with 1 Axes>"
      ]
     },
     "metadata": {},
     "output_type": "display_data"
    }
   ],
   "source": [
    "rfc.fit(X_train,y_train)\n",
    "pred_prob=rfc.predict_proba(X_test)\n",
    "sns.distplot(pred_prob[:,1])"
   ]
  },
  {
   "cell_type": "markdown",
   "metadata": {},
   "source": [
    "In the above histogram there is a gradual drop in counts beyond the 0.5 mark. This indicates that most of our classifications were predicted with a probablity of less than 0.5. In our case whenever a a certain observation is assigned a probability of lower than 0.5 we consider it to be a \"good\"  candidate. We observe  the same in the graph below."
   ]
  },
  {
   "cell_type": "code",
   "execution_count": 304,
   "metadata": {},
   "outputs": [
    {
     "data": {
      "text/plain": [
       "<matplotlib.axes._subplots.AxesSubplot at 0x1d8dbc80550>"
      ]
     },
     "execution_count": 304,
     "metadata": {},
     "output_type": "execute_result"
    },
    {
     "data": {
      "image/png": "[encoded data removed]",
      "text/plain": [
       "<Figure size 432x288 with 1 Axes>"
      ]
     },
     "metadata": {},
     "output_type": "display_data"
    }
   ],
   "source": [
    "preds=rfc.predict(X_test)\n",
    "sns.distplot(preds,kde=False)"
   ]
  },
  {
   "cell_type": "markdown",
   "metadata": {},
   "source": [
    "There are more number of classifications as 0 than that of one. 0 being good and 1 being bad."
   ]
  },
  {
   "cell_type": "markdown",
   "metadata": {},
   "source": [
    "When trying to strike the perfect balance we have to look at two metrics:\n",
    "\n",
    "-  True Positive Rate or Sensitivity: When the prediction is good how often is the prediction correct.\n",
    "\n",
    "-  True Negative Rate or Specificity: When the prediction is bad how often is the prediction correct.\n",
    "\n",
    "As we change the threshold value the Sensitivity and Specificity keep changing and they are inversely related to each other."
   ]
  },
  {
   "cell_type": "code",
   "execution_count": 308,
   "metadata": {},
   "outputs": [],
   "source": [
    "preds=binarize(pred_prob, 0.6)\n",
    "# print(pd.crosstab(y_test,preds,rownames=['Predicted'],colnames=['True']))"
   ]
  },
  {
   "cell_type": "code",
   "execution_count": 309,
   "metadata": {},
   "outputs": [
    {
     "data": {
      "text/plain": [
       "<matplotlib.axes._subplots.AxesSubplot at 0x1d8dbd1b6d8>"
      ]
     },
     "execution_count": 309,
     "metadata": {},
     "output_type": "execute_result"
    },
    {
     "data": {
      "image/png": "[encoded data removed]",
      "text/plain": [
       "<Figure size 432x288 with 1 Axes>"
      ]
     },
     "metadata": {},
     "output_type": "display_data"
    }
   ],
   "source": [
    "sns.distplot(preds[:,1],kde=False)"
   ]
  },
  {
   "cell_type": "code",
   "execution_count": 312,
   "metadata": {},
   "outputs": [
    {
     "data": {
      "text/plain": [
       "0.982532751091703"
      ]
     },
     "execution_count": 312,
     "metadata": {},
     "output_type": "execute_result"
    }
   ],
   "source": [
    "specificity(y_test,preds[:,1])"
   ]
  },
  {
   "cell_type": "code",
   "execution_count": 311,
   "metadata": {},
   "outputs": [
    {
     "data": {
      "text/html": [
       "<div>\n",
       "<style scoped>\n",
       "    .dataframe tbody tr th:only-of-type {\n",
       "        vertical-align: middle;\n",
       "    }\n",
       "\n",
       "    .dataframe tbody tr th {\n",
       "        vertical-align: top;\n",
       "    }\n",
       "\n",
       "    .dataframe thead th {\n",
       "        text-align: right;\n",
       "    }\n",
       "</style>\n",
       "<table border=\"1\" class=\"dataframe\">\n",
       "  <thead>\n",
       "    <tr style=\"text-align: right;\">\n",
       "      <th>True</th>\n",
       "      <th>0.0</th>\n",
       "      <th>1.0</th>\n",
       "    </tr>\n",
       "    <tr>\n",
       "      <th>Predicted</th>\n",
       "      <th></th>\n",
       "      <th></th>\n",
       "    </tr>\n",
       "  </thead>\n",
       "  <tbody>\n",
       "    <tr>\n",
       "      <th>0</th>\n",
       "      <td>225</td>\n",
       "      <td>4</td>\n",
       "    </tr>\n",
       "    <tr>\n",
       "      <th>1</th>\n",
       "      <td>90</td>\n",
       "      <td>11</td>\n",
       "    </tr>\n",
       "  </tbody>\n",
       "</table>\n",
       "</div>"
      ],
      "text/plain": [
       "True       0.0  1.0\n",
       "Predicted          \n",
       "0          225    4\n",
       "1           90   11"
      ]
     },
     "execution_count": 311,
     "metadata": {},
     "output_type": "execute_result"
    }
   ],
   "source": [
    "pd.crosstab(y_test,preds[:,1],rownames=['Predicted'],colnames=['True'])"
   ]
  },
  {
   "cell_type": "markdown",
   "metadata": {},
   "source": [
    "By changing the threshold value from 0.5 to 0.6 we have essentially made the model \"strict\" in the sense that it is now gonna produce fewer false positives but instead produce more false negatives. Essentially we would like to find the threshold value that has a harmonious balance between the two. "
   ]
  },
  {
   "cell_type": "markdown",
   "metadata": {},
   "source": [
    "### Lets try to use different threshold values and see  how both the scores change accordingly."
   ]
  },
  {
   "cell_type": "code",
   "execution_count": 337,
   "metadata": {},
   "outputs": [
    {
     "data": {
      "text/plain": [
       "Text(0, 0.5, 'Sensitivity')"
      ]
     },
     "execution_count": 337,
     "metadata": {},
     "output_type": "execute_result"
    },
    {
     "data": {
      "image/png": "[encoded data removed]",
      "text/plain": [
       "<Figure size 432x288 with 1 Axes>"
      ]
     },
     "metadata": {},
     "output_type": "display_data"
    }
   ],
   "source": [
    "threshold_list=[0.1,0.2,0.3,0.4,0.5,0.6,0.7,0.8,0.9,1]\n",
    "sens=[recall_score(y_test,binarize(pred_prob,thresh)[:,1]) for thresh  in threshold_list]\n",
    "spec=[specificity(y_test,binarize(pred_prob,thresh)[:,1]) for thresh in threshold_list]\n",
    "plt.plot(spec,sens)\n",
    "plt.title('Changes in Sensitivity and Specificity as we change threshold value.')\n",
    "plt.xlabel('Specificity')\n",
    "plt.ylabel('Sensitivity')"
   ]
  },
  {
   "cell_type": "markdown",
   "metadata": {},
   "source": [
    "Here we notice that as our sensitivity reduces our specificity increases indicating a inverse realtion between the two.\n",
    "To plot a similar graph while comparing False Positive Rate and True Positive Rate we use scikit-learns function roc_curve to plot such a graph."
   ]
  },
  {
   "cell_type": "markdown",
   "metadata": {},
   "source": [
    "The ROC Curve or Reciever Operating Characteristics Curve is basically a line plotted on a graph showing the relation between specificity and sensitivity. For every threshold that we evaluate the False Positive Rate(1-Specificity) and the True Positive Rate(Sensitivity) is calculated and the points are plotted on a graph.\n",
    "\n",
    "Note: False Positive Rate is 1-Specificity, so the False Positive Rate(Fall-out Rate) and True Positive Rate(Sensitivity) are directly related."
   ]
  },
  {
   "cell_type": "code",
   "execution_count": 325,
   "metadata": {},
   "outputs": [
    {
     "data": {
      "image/png": "[encoded data removed]",
      "text/plain": [
       "<Figure size 864x432 with 1 Axes>"
      ]
     },
     "metadata": {},
     "output_type": "display_data"
    }
   ],
   "source": [
    "fpr, tpr, thresholds = roc_curve(y_test, pred_prob[:,1])\n",
    "plt.figure(figsize=(12,6))\n",
    "sns.lineplot(fpr, tpr)\n",
    "plt.rcParams['font.size'] = 12\n",
    "plt.title('ROC curve for Candidate classifier')\n",
    "plt.xlabel('False Positive Rate (1 - Specificity)')\n",
    "plt.ylabel('True Positive Rate (Sensitivity)')\n",
    "plt.show()"
   ]
  },
  {
   "cell_type": "code",
   "execution_count": 341,
   "metadata": {},
   "outputs": [
    {
     "data": {
      "text/plain": [
       "0.3539990105861701"
      ]
     },
     "execution_count": 341,
     "metadata": {},
     "output_type": "execute_result"
    }
   ],
   "source": [
    "thresholds.mean()"
   ]
  },
  {
   "cell_type": "markdown",
   "metadata": {},
   "source": [
    "Although this shows us how our false positive rate and true positive rate change based on our threshold value. It doesnt tell us the best threshold value. This is a value we would have to decide on based on our business problem.\n",
    "\n",
    "Ideally for our problem we would need a value with high specificity and low sensitivity, but This is where domain knowledge comes into play. If our \"cost\" of false positive is high we would want to select a high specificity level of 95% to ensure that costs are at a minimal. Hence we select the corresponding threshold value of a 95% specificity level in our case this threshold value is 0.5.\n",
    "\n",
    "Although in our case if we consider 95% of our candidates as bad. We would incur a large opportunity cost as now most of the candidates that have a low chance of defaulting are also now considered bad and hence not given a loan. This could be a bad decision for the business. As we have costs with both a high and low specificity level our best option is to select one in the range of 0.3-0.4. As a moderate threshold value.\n",
    "\n",
    "Coming to the best optimal threshold value can also be converted into optimization problem. Where we try to optimize a function that takes into account both specificity and sensitivity."
   ]
  },
  {
   "cell_type": "markdown",
   "metadata": {},
   "source": [
    "Now we know that the most ideal model would have a high specificity value and a high sensitivity too. This would be the most idealistic situation.\n",
    "\n",
    "If we had to plot a line that touches a point that had both these values quite high, a good indicator would be the area under the line as a measure of a high specificity and high sensitivity.\n",
    "\n",
    "So essentially if we had a high specificity and sensitivity the area under the curve should be high as well. This becomes a direct measure of our model as it ensures the following:\n",
    "\n",
    "-  High specificity\n",
    "-  High sensitivity\n",
    "-  It is unaffected by huge class imbalances\n",
    "-  does not require a specified threshold value as it is a measure for all  such threshold values."
   ]
  },
  {
   "cell_type": "code",
   "execution_count": 351,
   "metadata": {},
   "outputs": [
    {
     "name": "stdout",
     "output_type": "stream",
     "text": [
      "The area under the curve in percentage of the entire graphs is 0.78 %\n"
     ]
    }
   ],
   "source": [
    "print('The area under the curve in percentage of the entire graphs is',round(roc_auc_score(y_test,pred_prob[:,1]),2),'%')"
   ]
  },
  {
   "cell_type": "markdown",
   "metadata": {},
   "source": [
    "This essentially how well our model performed irrespective of the threshold value selected."
   ]
  },
  {
   "cell_type": "markdown",
   "metadata": {},
   "source": [
    "Cross validating and checking the mean and standard deviation of the Area under the curve."
   ]
  },
  {
   "cell_type": "code",
   "execution_count": 353,
   "metadata": {},
   "outputs": [
    {
     "name": "stdout",
     "output_type": "stream",
     "text": [
      "The Mean AUC Score for our model is 0.78 % and the standard deviation is 0.05\n"
     ]
    }
   ],
   "source": [
    "cross_val_scores=cross_val_score(rfc,X,y,cv=10,scoring='roc_auc')\n",
    "print('The Mean AUC Score for our model is',round(cross_val_scores.mean(),2),'%','and the standard deviation is',round(cross_val_scores.std(),2))"
   ]
  },
  {
   "cell_type": "code",
   "execution_count": null,
   "metadata": {},
   "outputs": [],
   "source": []
  }
 ],
 "metadata": {
  "kernelspec": {
   "display_name": "Python 3",
   "language": "python",
   "name": "python3"
  },
  "language_info": {
   "codemirror_mode": {
    "name": "ipython",
    "version": 3
   },
   "file_extension": ".py",
   "mimetype": "text/x-python",
   "name": "python",
   "nbconvert_exporter": "python",
   "pygments_lexer": "ipython3",
   "version": "3.6.5"
  }
 },
 "nbformat": 4,
 "nbformat_minor": 2
}
