{
 "cells": [
  {
   "cell_type": "code",
   "execution_count": 51,
   "metadata": {},
   "outputs": [],
   "source": [
    "import numpy as np\n",
    "import pandas as pd\n",
    "import seaborn as sns\n",
    "import matplotlib.pyplot as plt\n",
    "from sklearn.linear_model import LogisticRegression\n",
    "from sklearn.model_selection import train_test_split,cross_val_score,KFold\n",
    "from sklearn.metrics import classification_report,confusion_matrix,make_scorer,roc_curve,SCORERS,recall_score,precision_score,roc_auc_score\n",
    "from sklearn.discriminant_analysis import LinearDiscriminantAnalysis,QuadraticDiscriminantAnalysis\n",
    "from sklearn.naive_bayes import GaussianNB\n",
    "from sklearn.preprocessing import binarize\n",
    "from sklearn.neighbors import KNeighborsClassifier\n",
    "from sklearn.ensemble import RandomForestClassifier\n",
    "from sklearn.svm import SVC,SVR\n",
    "from mlxtend.plotting import plot_decision_regions\n",
    "import warnings\n",
    "warnings.filterwarnings('ignore')\n",
    "% matplotlib inline"
   ]
  },
  {
   "cell_type": "code",
   "execution_count": 4,
   "metadata": {},
   "outputs": [],
   "source": [
    "df=pd.read_csv(r'C:\\Users\\MUKU\\Desktop\\Python\\Data sets\\Personal Projects\\Loan candidate classification\\dataset_31_credit-g.csv')"
   ]
  },
  {
   "cell_type": "code",
   "execution_count": 5,
   "metadata": {},
   "outputs": [
    {
     "data": {
      "text/html": [
       "<div>\n",
       "<style scoped>\n",
       "    .dataframe tbody tr th:only-of-type {\n",
       "        vertical-align: middle;\n",
       "    }\n",
       "\n",
       "    .dataframe tbody tr th {\n",
       "        vertical-align: top;\n",
       "    }\n",
       "\n",
       "    .dataframe thead th {\n",
       "        text-align: right;\n",
       "    }\n",
       "</style>\n",
       "<table border=\"1\" class=\"dataframe\">\n",
       "  <thead>\n",
       "    <tr style=\"text-align: right;\">\n",
       "      <th></th>\n",
       "      <th>checking_status</th>\n",
       "      <th>duration</th>\n",
       "      <th>credit_history</th>\n",
       "      <th>purpose</th>\n",
       "      <th>credit_amount</th>\n",
       "      <th>savings_status</th>\n",
       "      <th>employment</th>\n",
       "      <th>installment_commitment</th>\n",
       "      <th>personal_status</th>\n",
       "      <th>other_parties</th>\n",
       "      <th>...</th>\n",
       "      <th>property_magnitude</th>\n",
       "      <th>age</th>\n",
       "      <th>other_payment_plans</th>\n",
       "      <th>housing</th>\n",
       "      <th>existing_credits</th>\n",
       "      <th>job</th>\n",
       "      <th>num_dependents</th>\n",
       "      <th>own_telephone</th>\n",
       "      <th>foreign_worker</th>\n",
       "      <th>class</th>\n",
       "    </tr>\n",
       "  </thead>\n",
       "  <tbody>\n",
       "    <tr>\n",
       "      <th>449</th>\n",
       "      <td>'0&lt;=X&lt;200'</td>\n",
       "      <td>15</td>\n",
       "      <td>'delayed previously'</td>\n",
       "      <td>repairs</td>\n",
       "      <td>1512</td>\n",
       "      <td>'&gt;=1000'</td>\n",
       "      <td>'1&lt;=X&lt;4'</td>\n",
       "      <td>3</td>\n",
       "      <td>'male mar/wid'</td>\n",
       "      <td>none</td>\n",
       "      <td>...</td>\n",
       "      <td>'life insurance'</td>\n",
       "      <td>61</td>\n",
       "      <td>stores</td>\n",
       "      <td>own</td>\n",
       "      <td>2</td>\n",
       "      <td>skilled</td>\n",
       "      <td>1</td>\n",
       "      <td>none</td>\n",
       "      <td>yes</td>\n",
       "      <td>bad</td>\n",
       "    </tr>\n",
       "    <tr>\n",
       "      <th>986</th>\n",
       "      <td>'&gt;=200'</td>\n",
       "      <td>42</td>\n",
       "      <td>'no credits/all paid'</td>\n",
       "      <td>business</td>\n",
       "      <td>6289</td>\n",
       "      <td>'&lt;100'</td>\n",
       "      <td>'&lt;1'</td>\n",
       "      <td>2</td>\n",
       "      <td>'male div/sep'</td>\n",
       "      <td>none</td>\n",
       "      <td>...</td>\n",
       "      <td>'life insurance'</td>\n",
       "      <td>33</td>\n",
       "      <td>none</td>\n",
       "      <td>own</td>\n",
       "      <td>2</td>\n",
       "      <td>skilled</td>\n",
       "      <td>1</td>\n",
       "      <td>none</td>\n",
       "      <td>yes</td>\n",
       "      <td>good</td>\n",
       "    </tr>\n",
       "    <tr>\n",
       "      <th>484</th>\n",
       "      <td>'no checking'</td>\n",
       "      <td>12</td>\n",
       "      <td>'critical/other existing credit'</td>\n",
       "      <td>'new car'</td>\n",
       "      <td>1163</td>\n",
       "      <td>'500&lt;=X&lt;1000'</td>\n",
       "      <td>'1&lt;=X&lt;4'</td>\n",
       "      <td>4</td>\n",
       "      <td>'male single'</td>\n",
       "      <td>none</td>\n",
       "      <td>...</td>\n",
       "      <td>'real estate'</td>\n",
       "      <td>44</td>\n",
       "      <td>none</td>\n",
       "      <td>own</td>\n",
       "      <td>1</td>\n",
       "      <td>skilled</td>\n",
       "      <td>1</td>\n",
       "      <td>yes</td>\n",
       "      <td>yes</td>\n",
       "      <td>good</td>\n",
       "    </tr>\n",
       "    <tr>\n",
       "      <th>313</th>\n",
       "      <td>'0&lt;=X&lt;200'</td>\n",
       "      <td>12</td>\n",
       "      <td>'existing paid'</td>\n",
       "      <td>'new car'</td>\n",
       "      <td>685</td>\n",
       "      <td>'&lt;100'</td>\n",
       "      <td>'4&lt;=X&lt;7'</td>\n",
       "      <td>2</td>\n",
       "      <td>'male mar/wid'</td>\n",
       "      <td>none</td>\n",
       "      <td>...</td>\n",
       "      <td>car</td>\n",
       "      <td>25</td>\n",
       "      <td>bank</td>\n",
       "      <td>own</td>\n",
       "      <td>1</td>\n",
       "      <td>'unskilled resident'</td>\n",
       "      <td>1</td>\n",
       "      <td>none</td>\n",
       "      <td>yes</td>\n",
       "      <td>bad</td>\n",
       "    </tr>\n",
       "    <tr>\n",
       "      <th>835</th>\n",
       "      <td>'&lt;0'</td>\n",
       "      <td>12</td>\n",
       "      <td>'no credits/all paid'</td>\n",
       "      <td>'new car'</td>\n",
       "      <td>1082</td>\n",
       "      <td>'&lt;100'</td>\n",
       "      <td>'1&lt;=X&lt;4'</td>\n",
       "      <td>4</td>\n",
       "      <td>'male single'</td>\n",
       "      <td>none</td>\n",
       "      <td>...</td>\n",
       "      <td>car</td>\n",
       "      <td>48</td>\n",
       "      <td>bank</td>\n",
       "      <td>own</td>\n",
       "      <td>2</td>\n",
       "      <td>skilled</td>\n",
       "      <td>1</td>\n",
       "      <td>none</td>\n",
       "      <td>yes</td>\n",
       "      <td>bad</td>\n",
       "    </tr>\n",
       "    <tr>\n",
       "      <th>50</th>\n",
       "      <td>'0&lt;=X&lt;200'</td>\n",
       "      <td>24</td>\n",
       "      <td>'delayed previously'</td>\n",
       "      <td>furniture/equipment</td>\n",
       "      <td>2333</td>\n",
       "      <td>'no known savings'</td>\n",
       "      <td>'&lt;1'</td>\n",
       "      <td>4</td>\n",
       "      <td>'male single'</td>\n",
       "      <td>none</td>\n",
       "      <td>...</td>\n",
       "      <td>'life insurance'</td>\n",
       "      <td>29</td>\n",
       "      <td>bank</td>\n",
       "      <td>own</td>\n",
       "      <td>1</td>\n",
       "      <td>'unskilled resident'</td>\n",
       "      <td>1</td>\n",
       "      <td>none</td>\n",
       "      <td>yes</td>\n",
       "      <td>good</td>\n",
       "    </tr>\n",
       "    <tr>\n",
       "      <th>630</th>\n",
       "      <td>'&lt;0'</td>\n",
       "      <td>24</td>\n",
       "      <td>'existing paid'</td>\n",
       "      <td>radio/tv</td>\n",
       "      <td>3660</td>\n",
       "      <td>'&lt;100'</td>\n",
       "      <td>'1&lt;=X&lt;4'</td>\n",
       "      <td>2</td>\n",
       "      <td>'female div/dep/mar'</td>\n",
       "      <td>none</td>\n",
       "      <td>...</td>\n",
       "      <td>car</td>\n",
       "      <td>28</td>\n",
       "      <td>none</td>\n",
       "      <td>own</td>\n",
       "      <td>1</td>\n",
       "      <td>skilled</td>\n",
       "      <td>1</td>\n",
       "      <td>none</td>\n",
       "      <td>yes</td>\n",
       "      <td>good</td>\n",
       "    </tr>\n",
       "    <tr>\n",
       "      <th>65</th>\n",
       "      <td>'no checking'</td>\n",
       "      <td>27</td>\n",
       "      <td>'existing paid'</td>\n",
       "      <td>repairs</td>\n",
       "      <td>5190</td>\n",
       "      <td>'no known savings'</td>\n",
       "      <td>'&gt;=7'</td>\n",
       "      <td>4</td>\n",
       "      <td>'male single'</td>\n",
       "      <td>none</td>\n",
       "      <td>...</td>\n",
       "      <td>'life insurance'</td>\n",
       "      <td>48</td>\n",
       "      <td>none</td>\n",
       "      <td>own</td>\n",
       "      <td>4</td>\n",
       "      <td>skilled</td>\n",
       "      <td>2</td>\n",
       "      <td>yes</td>\n",
       "      <td>yes</td>\n",
       "      <td>good</td>\n",
       "    </tr>\n",
       "    <tr>\n",
       "      <th>69</th>\n",
       "      <td>'no checking'</td>\n",
       "      <td>36</td>\n",
       "      <td>'existing paid'</td>\n",
       "      <td>radio/tv</td>\n",
       "      <td>2394</td>\n",
       "      <td>'no known savings'</td>\n",
       "      <td>'1&lt;=X&lt;4'</td>\n",
       "      <td>4</td>\n",
       "      <td>'female div/dep/mar'</td>\n",
       "      <td>none</td>\n",
       "      <td>...</td>\n",
       "      <td>car</td>\n",
       "      <td>25</td>\n",
       "      <td>none</td>\n",
       "      <td>own</td>\n",
       "      <td>1</td>\n",
       "      <td>skilled</td>\n",
       "      <td>1</td>\n",
       "      <td>none</td>\n",
       "      <td>yes</td>\n",
       "      <td>good</td>\n",
       "    </tr>\n",
       "    <tr>\n",
       "      <th>133</th>\n",
       "      <td>'no checking'</td>\n",
       "      <td>18</td>\n",
       "      <td>'existing paid'</td>\n",
       "      <td>furniture/equipment</td>\n",
       "      <td>1984</td>\n",
       "      <td>'&lt;100'</td>\n",
       "      <td>'1&lt;=X&lt;4'</td>\n",
       "      <td>4</td>\n",
       "      <td>'male single'</td>\n",
       "      <td>none</td>\n",
       "      <td>...</td>\n",
       "      <td>'no known property'</td>\n",
       "      <td>47</td>\n",
       "      <td>bank</td>\n",
       "      <td>'for free'</td>\n",
       "      <td>2</td>\n",
       "      <td>skilled</td>\n",
       "      <td>1</td>\n",
       "      <td>none</td>\n",
       "      <td>yes</td>\n",
       "      <td>good</td>\n",
       "    </tr>\n",
       "  </tbody>\n",
       "</table>\n",
       "<p>10 rows × 21 columns</p>\n",
       "</div>"
      ],
      "text/plain": [
       "    checking_status  duration                    credit_history  \\\n",
       "449      '0<=X<200'        15              'delayed previously'   \n",
       "986         '>=200'        42             'no credits/all paid'   \n",
       "484   'no checking'        12  'critical/other existing credit'   \n",
       "313      '0<=X<200'        12                   'existing paid'   \n",
       "835            '<0'        12             'no credits/all paid'   \n",
       "50       '0<=X<200'        24              'delayed previously'   \n",
       "630            '<0'        24                   'existing paid'   \n",
       "65    'no checking'        27                   'existing paid'   \n",
       "69    'no checking'        36                   'existing paid'   \n",
       "133   'no checking'        18                   'existing paid'   \n",
       "\n",
       "                 purpose  credit_amount      savings_status employment  \\\n",
       "449              repairs           1512            '>=1000'   '1<=X<4'   \n",
       "986             business           6289              '<100'       '<1'   \n",
       "484            'new car'           1163       '500<=X<1000'   '1<=X<4'   \n",
       "313            'new car'            685              '<100'   '4<=X<7'   \n",
       "835            'new car'           1082              '<100'   '1<=X<4'   \n",
       "50   furniture/equipment           2333  'no known savings'       '<1'   \n",
       "630             radio/tv           3660              '<100'   '1<=X<4'   \n",
       "65               repairs           5190  'no known savings'      '>=7'   \n",
       "69              radio/tv           2394  'no known savings'   '1<=X<4'   \n",
       "133  furniture/equipment           1984              '<100'   '1<=X<4'   \n",
       "\n",
       "     installment_commitment       personal_status other_parties  ...  \\\n",
       "449                       3        'male mar/wid'          none  ...   \n",
       "986                       2        'male div/sep'          none  ...   \n",
       "484                       4         'male single'          none  ...   \n",
       "313                       2        'male mar/wid'          none  ...   \n",
       "835                       4         'male single'          none  ...   \n",
       "50                        4         'male single'          none  ...   \n",
       "630                       2  'female div/dep/mar'          none  ...   \n",
       "65                        4         'male single'          none  ...   \n",
       "69                        4  'female div/dep/mar'          none  ...   \n",
       "133                       4         'male single'          none  ...   \n",
       "\n",
       "      property_magnitude age  other_payment_plans     housing  \\\n",
       "449     'life insurance'  61               stores         own   \n",
       "986     'life insurance'  33                 none         own   \n",
       "484        'real estate'  44                 none         own   \n",
       "313                  car  25                 bank         own   \n",
       "835                  car  48                 bank         own   \n",
       "50      'life insurance'  29                 bank         own   \n",
       "630                  car  28                 none         own   \n",
       "65      'life insurance'  48                 none         own   \n",
       "69                   car  25                 none         own   \n",
       "133  'no known property'  47                 bank  'for free'   \n",
       "\n",
       "    existing_credits                   job num_dependents  own_telephone  \\\n",
       "449                2               skilled              1           none   \n",
       "986                2               skilled              1           none   \n",
       "484                1               skilled              1            yes   \n",
       "313                1  'unskilled resident'              1           none   \n",
       "835                2               skilled              1           none   \n",
       "50                 1  'unskilled resident'              1           none   \n",
       "630                1               skilled              1           none   \n",
       "65                 4               skilled              2            yes   \n",
       "69                 1               skilled              1           none   \n",
       "133                2               skilled              1           none   \n",
       "\n",
       "    foreign_worker class  \n",
       "449            yes   bad  \n",
       "986            yes  good  \n",
       "484            yes  good  \n",
       "313            yes   bad  \n",
       "835            yes   bad  \n",
       "50             yes  good  \n",
       "630            yes  good  \n",
       "65             yes  good  \n",
       "69             yes  good  \n",
       "133            yes  good  \n",
       "\n",
       "[10 rows x 21 columns]"
      ]
     },
     "execution_count": 5,
     "metadata": {},
     "output_type": "execute_result"
    }
   ],
   "source": [
    "df.sample(10)"
   ]
  },
  {
   "cell_type": "code",
   "execution_count": 6,
   "metadata": {},
   "outputs": [
    {
     "name": "stdout",
     "output_type": "stream",
     "text": [
      "<class 'pandas.core.frame.DataFrame'>\n",
      "RangeIndex: 1000 entries, 0 to 999\n",
      "Data columns (total 21 columns):\n",
      "checking_status           1000 non-null object\n",
      "duration                  1000 non-null int64\n",
      "credit_history            1000 non-null object\n",
      "purpose                   1000 non-null object\n",
      "credit_amount             1000 non-null int64\n",
      "savings_status            1000 non-null object\n",
      "employment                1000 non-null object\n",
      "installment_commitment    1000 non-null int64\n",
      "personal_status           1000 non-null object\n",
      "other_parties             1000 non-null object\n",
      "residence_since           1000 non-null int64\n",
      "property_magnitude        1000 non-null object\n",
      "age                       1000 non-null int64\n",
      "other_payment_plans       1000 non-null object\n",
      "housing                   1000 non-null object\n",
      "existing_credits          1000 non-null int64\n",
      "job                       1000 non-null object\n",
      "num_dependents            1000 non-null int64\n",
      "own_telephone             1000 non-null object\n",
      "foreign_worker            1000 non-null object\n",
      "class                     1000 non-null object\n",
      "dtypes: int64(7), object(14)\n",
      "memory usage: 164.1+ KB\n"
     ]
    }
   ],
   "source": [
    "df.info()"
   ]
  },
  {
   "cell_type": "code",
   "execution_count": 7,
   "metadata": {},
   "outputs": [
    {
     "data": {
      "text/html": [
       "<div>\n",
       "<style scoped>\n",
       "    .dataframe tbody tr th:only-of-type {\n",
       "        vertical-align: middle;\n",
       "    }\n",
       "\n",
       "    .dataframe tbody tr th {\n",
       "        vertical-align: top;\n",
       "    }\n",
       "\n",
       "    .dataframe thead th {\n",
       "        text-align: right;\n",
       "    }\n",
       "</style>\n",
       "<table border=\"1\" class=\"dataframe\">\n",
       "  <thead>\n",
       "    <tr style=\"text-align: right;\">\n",
       "      <th></th>\n",
       "      <th>duration</th>\n",
       "      <th>credit_amount</th>\n",
       "      <th>installment_commitment</th>\n",
       "      <th>residence_since</th>\n",
       "      <th>age</th>\n",
       "      <th>existing_credits</th>\n",
       "      <th>num_dependents</th>\n",
       "    </tr>\n",
       "  </thead>\n",
       "  <tbody>\n",
       "    <tr>\n",
       "      <th>count</th>\n",
       "      <td>1000.000000</td>\n",
       "      <td>1000.000000</td>\n",
       "      <td>1000.000000</td>\n",
       "      <td>1000.000000</td>\n",
       "      <td>1000.000000</td>\n",
       "      <td>1000.000000</td>\n",
       "      <td>1000.000000</td>\n",
       "    </tr>\n",
       "    <tr>\n",
       "      <th>mean</th>\n",
       "      <td>20.903000</td>\n",
       "      <td>3271.258000</td>\n",
       "      <td>2.973000</td>\n",
       "      <td>2.845000</td>\n",
       "      <td>35.546000</td>\n",
       "      <td>1.407000</td>\n",
       "      <td>1.155000</td>\n",
       "    </tr>\n",
       "    <tr>\n",
       "      <th>std</th>\n",
       "      <td>12.058814</td>\n",
       "      <td>2822.736876</td>\n",
       "      <td>1.118715</td>\n",
       "      <td>1.103718</td>\n",
       "      <td>11.375469</td>\n",
       "      <td>0.577654</td>\n",
       "      <td>0.362086</td>\n",
       "    </tr>\n",
       "    <tr>\n",
       "      <th>min</th>\n",
       "      <td>4.000000</td>\n",
       "      <td>250.000000</td>\n",
       "      <td>1.000000</td>\n",
       "      <td>1.000000</td>\n",
       "      <td>19.000000</td>\n",
       "      <td>1.000000</td>\n",
       "      <td>1.000000</td>\n",
       "    </tr>\n",
       "    <tr>\n",
       "      <th>25%</th>\n",
       "      <td>12.000000</td>\n",
       "      <td>1365.500000</td>\n",
       "      <td>2.000000</td>\n",
       "      <td>2.000000</td>\n",
       "      <td>27.000000</td>\n",
       "      <td>1.000000</td>\n",
       "      <td>1.000000</td>\n",
       "    </tr>\n",
       "    <tr>\n",
       "      <th>50%</th>\n",
       "      <td>18.000000</td>\n",
       "      <td>2319.500000</td>\n",
       "      <td>3.000000</td>\n",
       "      <td>3.000000</td>\n",
       "      <td>33.000000</td>\n",
       "      <td>1.000000</td>\n",
       "      <td>1.000000</td>\n",
       "    </tr>\n",
       "    <tr>\n",
       "      <th>75%</th>\n",
       "      <td>24.000000</td>\n",
       "      <td>3972.250000</td>\n",
       "      <td>4.000000</td>\n",
       "      <td>4.000000</td>\n",
       "      <td>42.000000</td>\n",
       "      <td>2.000000</td>\n",
       "      <td>1.000000</td>\n",
       "    </tr>\n",
       "    <tr>\n",
       "      <th>max</th>\n",
       "      <td>72.000000</td>\n",
       "      <td>18424.000000</td>\n",
       "      <td>4.000000</td>\n",
       "      <td>4.000000</td>\n",
       "      <td>75.000000</td>\n",
       "      <td>4.000000</td>\n",
       "      <td>2.000000</td>\n",
       "    </tr>\n",
       "  </tbody>\n",
       "</table>\n",
       "</div>"
      ],
      "text/plain": [
       "          duration  credit_amount  installment_commitment  residence_since  \\\n",
       "count  1000.000000    1000.000000             1000.000000      1000.000000   \n",
       "mean     20.903000    3271.258000                2.973000         2.845000   \n",
       "std      12.058814    2822.736876                1.118715         1.103718   \n",
       "min       4.000000     250.000000                1.000000         1.000000   \n",
       "25%      12.000000    1365.500000                2.000000         2.000000   \n",
       "50%      18.000000    2319.500000                3.000000         3.000000   \n",
       "75%      24.000000    3972.250000                4.000000         4.000000   \n",
       "max      72.000000   18424.000000                4.000000         4.000000   \n",
       "\n",
       "               age  existing_credits  num_dependents  \n",
       "count  1000.000000       1000.000000     1000.000000  \n",
       "mean     35.546000          1.407000        1.155000  \n",
       "std      11.375469          0.577654        0.362086  \n",
       "min      19.000000          1.000000        1.000000  \n",
       "25%      27.000000          1.000000        1.000000  \n",
       "50%      33.000000          1.000000        1.000000  \n",
       "75%      42.000000          2.000000        1.000000  \n",
       "max      75.000000          4.000000        2.000000  "
      ]
     },
     "execution_count": 7,
     "metadata": {},
     "output_type": "execute_result"
    }
   ],
   "source": [
    "df.describe()"
   ]
  },
  {
   "cell_type": "code",
   "execution_count": 8,
   "metadata": {},
   "outputs": [
    {
     "name": "stdout",
     "output_type": "stream",
     "text": [
      "duration 33\n",
      "credit_amount 921\n",
      "installment_commitment 4\n",
      "residence_since 4\n",
      "age 53\n",
      "existing_credits 4\n",
      "num_dependents 2\n"
     ]
    }
   ],
   "source": [
    "# code to check if these values are truly numerical or categorical encoded as numerical\n",
    "cols=df.describe().columns\n",
    "for col in cols:\n",
    "    print(col,df[col].nunique())"
   ]
  },
  {
   "cell_type": "code",
   "execution_count": 9,
   "metadata": {},
   "outputs": [],
   "source": [
    "#numerical columns\n",
    "num_cols=['duration','credit_amount','age']\n",
    "#rest all columns\n",
    "rest_cols=df.columns[~df.columns.isin(df[num_cols].columns)]"
   ]
  },
  {
   "cell_type": "code",
   "execution_count": 10,
   "metadata": {},
   "outputs": [
    {
     "name": "stdout",
     "output_type": "stream",
     "text": [
      "checking_status 4\n",
      "credit_history 5\n",
      "purpose 10\n",
      "savings_status 5\n",
      "employment 5\n",
      "installment_commitment 4\n",
      "personal_status 4\n",
      "other_parties 3\n",
      "residence_since 4\n",
      "property_magnitude 4\n",
      "other_payment_plans 3\n",
      "housing 3\n",
      "existing_credits 4\n",
      "job 4\n",
      "num_dependents 2\n",
      "own_telephone 2\n",
      "foreign_worker 2\n",
      "class 2\n"
     ]
    }
   ],
   "source": [
    "for col in rest_cols:\n",
    "    print(col,df[col].nunique())"
   ]
  },
  {
   "cell_type": "code",
   "execution_count": 11,
   "metadata": {},
   "outputs": [],
   "source": [
    "#removing the target/dependant variable from all the variables.\n",
    "cat_cols=df[df.columns].iloc[:,:-1].columns"
   ]
  },
  {
   "cell_type": "code",
   "execution_count": 56,
   "metadata": {},
   "outputs": [],
   "source": [
    "X=pd.get_dummies(df[cat_cols],drop_first=True)\n",
    "y=df['class'].apply(lambda x:1 if x=='bad' else 0)"
   ]
  },
  {
   "cell_type": "code",
   "execution_count": 57,
   "metadata": {},
   "outputs": [],
   "source": [
    "X_train, X_test, y_train, y_test = train_test_split(X, y, test_size=0.33, random_state=42)"
   ]
  },
  {
   "cell_type": "code",
   "execution_count": 14,
   "metadata": {},
   "outputs": [],
   "source": [
    "def class_n_conf(model):\n",
    "    model.fit(X_train,y_train)\n",
    "    preds=model.predict(X_test)\n",
    "    conf_mat=pd.crosstab(y_test, preds, rownames=['Predicted'], colnames=['True'])\n",
    "    print(str(model).split('(')[0])\n",
    "    print('\\n')\n",
    "    print(conf_mat)\n",
    "    print('------------------------------------------------------------------------------------')\n",
    "    print('\\n')"
   ]
  },
  {
   "cell_type": "code",
   "execution_count": 71,
   "metadata": {},
   "outputs": [],
   "source": [
    "lg=LogisticRegression(random_state=42)\n",
    "gnb=GaussianNB()\n",
    "knn=KNeighborsClassifier()\n",
    "rfc=RandomForestClassifier(n_estimators=1000,random_state=42,max_depth=5,max_features=20)\n",
    "lda=LinearDiscriminantAnalysis()\n",
    "qda=QuadraticDiscriminantAnalysis(reg_param=0.001)\n",
    "svc=SVC(random_state=42,tol=0.0001)\n",
    "model_list=[lg,gnb,knn,rfc,lda,qda,svc]"
   ]
  },
  {
   "cell_type": "code",
   "execution_count": 16,
   "metadata": {
    "scrolled": false
   },
   "outputs": [
    {
     "name": "stdout",
     "output_type": "stream",
     "text": [
      "LogisticRegression\n",
      "\n",
      "\n",
      "True         0   1\n",
      "Predicted         \n",
      "0          208  21\n",
      "1           54  47\n",
      "------------------------------------------------------------------------------------\n",
      "\n",
      "\n",
      "GaussianNB\n",
      "\n",
      "\n",
      "True         0   1\n",
      "Predicted         \n",
      "0          174  55\n",
      "1           31  70\n",
      "------------------------------------------------------------------------------------\n",
      "\n",
      "\n",
      "KNeighborsClassifier\n",
      "\n",
      "\n",
      "True         0   1\n",
      "Predicted         \n",
      "0          195  34\n",
      "1           81  20\n",
      "------------------------------------------------------------------------------------\n",
      "\n",
      "\n",
      "RandomForestClassifier\n",
      "\n",
      "\n",
      "True         0   1\n",
      "Predicted         \n",
      "0          217  12\n",
      "1           73  28\n",
      "------------------------------------------------------------------------------------\n",
      "\n",
      "\n",
      "LinearDiscriminantAnalysis\n",
      "\n",
      "\n",
      "True         0   1\n",
      "Predicted         \n",
      "0          204  25\n",
      "1           50  51\n",
      "------------------------------------------------------------------------------------\n",
      "\n",
      "\n",
      "QuadraticDiscriminantAnalysis\n",
      "\n",
      "\n",
      "True         0   1\n",
      "Predicted         \n",
      "0          184  45\n",
      "1           43  58\n",
      "------------------------------------------------------------------------------------\n",
      "\n",
      "\n",
      "SVC\n",
      "\n",
      "\n",
      "True         0\n",
      "Predicted     \n",
      "0          229\n",
      "1          101\n",
      "------------------------------------------------------------------------------------\n",
      "\n",
      "\n"
     ]
    }
   ],
   "source": [
    "for model in model_list:\n",
    "    (class_n_conf(model))"
   ]
  },
  {
   "cell_type": "markdown",
   "metadata": {},
   "source": [
    "# Understanding the Confusion Matrix:\n",
    "\n",
    "1) Corrects:\n",
    "-  True Positives: People we predicted as good and they were actually good.\n",
    "\n",
    "\n",
    "-  True Negative: People we predicted as bad and they were actually bad.\n",
    "\n",
    "\n",
    "2) Wrongs:\n",
    "-  False Positives: People we predicted as bad but are actually good this is also called Type I error.\n",
    "\n",
    "\n",
    "-  False Negatives: People we predicted as good but are actually bad this is also called Type II error.\n"
   ]
  },
  {
   "cell_type": "markdown",
   "metadata": {},
   "source": [
    "<img src=\"https://miro.medium.com/max/700/1*SAt7oTEaVIsUigtyiJyDJA.png\">"
   ]
  },
  {
   "cell_type": "markdown",
   "metadata": {},
   "source": [
    "## Defining what errors are of importance for our case.\n",
    "\n",
    "In such a case, one can be linient with making a **Type II error** where a good candidate is not given a loan. Although making a **Type I error** is something to be avoided, as giving a loan to someone(a false negative) who is most likely to default, is taking on an unnecessary risk. Hence we shall be using the model that made the least **Type I error**.\n",
    "\n",
    "**Note**: Ideally we would like to reduce both these error. As reducing oportunity cost is also an objective.\n",
    "\n",
    "The **RandomForestClassifier** algorithm gave us the best score as it had the least **Type I error**.\n",
    "\n",
    "As our main goal is to reduce the **Type I error**.\n",
    "\n",
    "Classification metrics that take into account the **Type I error** or **False Positive** are as follows:\n",
    "\n",
    "-  **Specificty** (How often are we correct about classifying the bad candidates)\n",
    "\n",
    "#### Specificity = True Negatives / (True Negatives+False Positives)\n",
    "\n",
    "-  **False Positive Rate** (1-Specificity) or (How wrong are we about classifying the bad candidates)\n",
    "\n",
    "#### False Positive Rate = False Positive / (True Negatives+False Positives)\n",
    "\n",
    "-  Precision (How Correct are we about classifying the good candidates)\n",
    "\n",
    "#### Precision = True Positive/(False Positive+True Positive)\n",
    "\n",
    "The score we would like to increase is **Specificity** as whenever a candidate is considered bad for a loan we would like to correctly classify such candidates.\n",
    "\n",
    "The only way this score can get higher is by reducing **False Positives**. Hence We use the **Specificity** metric for evaluation."
   ]
  },
  {
   "cell_type": "code",
   "execution_count": 17,
   "metadata": {},
   "outputs": [],
   "source": [
    "def specificity(y_true,y_preds):\n",
    "    tn,fp,fn,tp=confusion_matrix(y_true,y_preds).ravel()\n",
    "    return tn/(tn+fp)"
   ]
  },
  {
   "cell_type": "code",
   "execution_count": 18,
   "metadata": {},
   "outputs": [
    {
     "name": "stdout",
     "output_type": "stream",
     "text": [
      "LogisticRegression\n",
      "0.908\n",
      "\n",
      "\n",
      "GaussianNB\n",
      "0.76\n",
      "\n",
      "\n",
      "KNeighborsClassifier\n",
      "0.852\n",
      "\n",
      "\n",
      "RandomForestClassifier\n",
      "0.948\n",
      "\n",
      "\n",
      "LinearDiscriminantAnalysis\n",
      "0.891\n",
      "\n",
      "\n",
      "QuadraticDiscriminantAnalysis\n",
      "0.803\n",
      "\n",
      "\n",
      "SVC\n",
      "1.0\n",
      "\n",
      "\n"
     ]
    }
   ],
   "source": [
    "# calculating sensitivity or recall for all models.\n",
    "for model in model_list:\n",
    "    model.fit(X_train,y_train)\n",
    "    preds=model.predict(X_test)\n",
    "    print(str(model).split('(')[0])\n",
    "    print(round(specificity(y_test,preds),3))\n",
    "    print('\\n')"
   ]
  },
  {
   "cell_type": "markdown",
   "metadata": {},
   "source": [
    "Support Vector Classifier seems to have performed the best when it comes to making the least mistakes of classifying the bad candidates as good. This is justified by the high Specificity score.\n",
    "\n",
    "Similarly we can calculate precision as well."
   ]
  },
  {
   "cell_type": "code",
   "execution_count": 19,
   "metadata": {},
   "outputs": [
    {
     "name": "stdout",
     "output_type": "stream",
     "text": [
      "LogisticRegression\n",
      "0.69\n",
      "\n",
      "\n",
      "GaussianNB\n",
      "0.56\n",
      "\n",
      "\n",
      "KNeighborsClassifier\n",
      "0.37\n",
      "\n",
      "\n",
      "RandomForestClassifier\n",
      "0.7\n",
      "\n",
      "\n",
      "LinearDiscriminantAnalysis\n",
      "0.67\n",
      "\n",
      "\n",
      "QuadraticDiscriminantAnalysis\n",
      "0.56\n",
      "\n",
      "\n",
      "SVC\n",
      "0.0\n",
      "\n",
      "\n"
     ]
    }
   ],
   "source": [
    "for model in model_list:\n",
    "    model.fit(X_train,y_train)\n",
    "    preds=model.predict(X_test)\n",
    "    print(str(model).split('(')[0])\n",
    "    print(round(precision_score(y_test,preds),2))\n",
    "    print('\\n')"
   ]
  },
  {
   "cell_type": "markdown",
   "metadata": {},
   "source": [
    "Precision is a score we want to increase as well. This basically tells us how  our model did overally and in the context of making the least Type I error.\n",
    "\n",
    "In this case the RandomForestClassifier performed better as it was able to correctly predict which candidates were actually good compared to the total candidates that were good.\n",
    "\n",
    "Although the Support Vector Classifier performed \"well\" in classifying the bad candidates from the good, it more often than not was just assigning most candidates as either good or bad. It isnt really able to discern the true differences. This is due to overfitting.\n",
    "\n",
    "The SVC model in our case is like a person quick to jump to conclusions without taking the time and effort to do its research. Hence is just simply assigns it as either good or bad, without much thought. This is not something we want in our business to make decisions.\n",
    "\n",
    "Hence we select the Random Forest Classfier as it performs the best in both regards."
   ]
  },
  {
   "cell_type": "markdown",
   "metadata": {},
   "source": [
    "Using the specificty metric. Random Forest Classifier is the model with the highest specificity and hence this shall be the model to use for our purpose. As according to the Random Forest Classifier model we are able to predict the customers that are bad candidates correctly 95% of the time. This is acceptable as we leave only a  5% margin for error."
   ]
  },
  {
   "cell_type": "markdown",
   "metadata": {},
   "source": [
    "#### The logic behind classification is essentially to predict probabilities rather than predicting the actual class. For our case if the probability is above 0.5 it is classfied as good candidate and if it is below 0.5 it is a bad candidate.\n",
    "\n",
    "#### This value 0.5 is essentially a threshold that defines if a candidate is bad or good."
   ]
  },
  {
   "cell_type": "code",
   "execution_count": 20,
   "metadata": {},
   "outputs": [
    {
     "data": {
      "text/plain": [
       "<matplotlib.axes._subplots.AxesSubplot at 0x1ec66393588>"
      ]
     },
     "execution_count": 20,
     "metadata": {},
     "output_type": "execute_result"
    },
    {
     "data": {
      "image/png": "[encoded data removed]",
      "text/plain": [
       "<Figure size 432x288 with 1 Axes>"
      ]
     },
     "metadata": {},
     "output_type": "display_data"
    }
   ],
   "source": [
    "rfc.fit(X_train,y_train)\n",
    "pred_prob=rfc.predict_proba(X_test)\n",
    "sns.distplot(pred_prob[:,1])"
   ]
  },
  {
   "cell_type": "markdown",
   "metadata": {},
   "source": [
    "In the above histogram there is a gradual drop in counts beyond the 0.5 mark. This indicates that most of our classifications were predicted with a probablity of less than 0.5. In our case whenever a a certain observation is assigned a probability of lower than 0.5 we consider it to be a \"good\"  candidate. We observe  the same in the graph below."
   ]
  },
  {
   "cell_type": "code",
   "execution_count": 21,
   "metadata": {},
   "outputs": [
    {
     "data": {
      "text/plain": [
       "<matplotlib.axes._subplots.AxesSubplot at 0x1ec684aa160>"
      ]
     },
     "execution_count": 21,
     "metadata": {},
     "output_type": "execute_result"
    },
    {
     "data": {
      "image/png": "[encoded data removed]",
      "text/plain": [
       "<Figure size 432x288 with 1 Axes>"
      ]
     },
     "metadata": {},
     "output_type": "display_data"
    }
   ],
   "source": [
    "preds=rfc.predict(X_test)\n",
    "sns.distplot(preds,kde=False)"
   ]
  },
  {
   "cell_type": "markdown",
   "metadata": {},
   "source": [
    "There are more number of classifications as 0 than that of one. 0 being good and 1 being bad."
   ]
  },
  {
   "cell_type": "markdown",
   "metadata": {},
   "source": [
    "When trying to strike the perfect balance we have to look at two metrics:\n",
    "\n",
    "-  True Positive Rate or Sensitivity: When the prediction is good how often is the prediction correct.\n",
    "\n",
    "-  True Negative Rate or Specificity: When the prediction is bad how often is the prediction correct.\n",
    "\n",
    "As we change the threshold value the Sensitivity and Specificity keep changing and they are inversely related to each other."
   ]
  },
  {
   "cell_type": "code",
   "execution_count": 22,
   "metadata": {},
   "outputs": [],
   "source": [
    "preds=binarize(pred_prob, 0.6)\n",
    "# print(pd.crosstab(y_test,preds,rownames=['Predicted'],colnames=['True']))"
   ]
  },
  {
   "cell_type": "code",
   "execution_count": 23,
   "metadata": {},
   "outputs": [
    {
     "data": {
      "text/plain": [
       "<matplotlib.axes._subplots.AxesSubplot at 0x1ec685294e0>"
      ]
     },
     "execution_count": 23,
     "metadata": {},
     "output_type": "execute_result"
    },
    {
     "data": {
      "image/png": "[encoded data removed]",
      "text/plain": [
       "<Figure size 432x288 with 1 Axes>"
      ]
     },
     "metadata": {},
     "output_type": "display_data"
    }
   ],
   "source": [
    "sns.distplot(preds[:,1],kde=False)"
   ]
  },
  {
   "cell_type": "code",
   "execution_count": 24,
   "metadata": {},
   "outputs": [
    {
     "data": {
      "text/plain": [
       "0.982532751091703"
      ]
     },
     "execution_count": 24,
     "metadata": {},
     "output_type": "execute_result"
    }
   ],
   "source": [
    "specificity(y_test,preds[:,1])"
   ]
  },
  {
   "cell_type": "code",
   "execution_count": 25,
   "metadata": {},
   "outputs": [
    {
     "data": {
      "text/html": [
       "<div>\n",
       "<style scoped>\n",
       "    .dataframe tbody tr th:only-of-type {\n",
       "        vertical-align: middle;\n",
       "    }\n",
       "\n",
       "    .dataframe tbody tr th {\n",
       "        vertical-align: top;\n",
       "    }\n",
       "\n",
       "    .dataframe thead th {\n",
       "        text-align: right;\n",
       "    }\n",
       "</style>\n",
       "<table border=\"1\" class=\"dataframe\">\n",
       "  <thead>\n",
       "    <tr style=\"text-align: right;\">\n",
       "      <th>True</th>\n",
       "      <th>0.0</th>\n",
       "      <th>1.0</th>\n",
       "    </tr>\n",
       "    <tr>\n",
       "      <th>Predicted</th>\n",
       "      <th></th>\n",
       "      <th></th>\n",
       "    </tr>\n",
       "  </thead>\n",
       "  <tbody>\n",
       "    <tr>\n",
       "      <th>0</th>\n",
       "      <td>225</td>\n",
       "      <td>4</td>\n",
       "    </tr>\n",
       "    <tr>\n",
       "      <th>1</th>\n",
       "      <td>90</td>\n",
       "      <td>11</td>\n",
       "    </tr>\n",
       "  </tbody>\n",
       "</table>\n",
       "</div>"
      ],
      "text/plain": [
       "True       0.0  1.0\n",
       "Predicted          \n",
       "0          225    4\n",
       "1           90   11"
      ]
     },
     "execution_count": 25,
     "metadata": {},
     "output_type": "execute_result"
    }
   ],
   "source": [
    "pd.crosstab(y_test,preds[:,1],rownames=['Predicted'],colnames=['True'])"
   ]
  },
  {
   "cell_type": "markdown",
   "metadata": {},
   "source": [
    "By changing the threshold value from 0.5 to 0.6 we have essentially made the model \"strict\" in the sense that it is now gonna produce fewer false positives but instead produce more false negatives. Essentially we would like to find the threshold value that has a harmonious balance between the two. "
   ]
  },
  {
   "cell_type": "markdown",
   "metadata": {},
   "source": [
    "### Lets try to use different threshold values and see  how both the scores change accordingly."
   ]
  },
  {
   "cell_type": "code",
   "execution_count": 26,
   "metadata": {},
   "outputs": [
    {
     "data": {
      "text/plain": [
       "Text(0, 0.5, 'Sensitivity')"
      ]
     },
     "execution_count": 26,
     "metadata": {},
     "output_type": "execute_result"
    },
    {
     "data": {
      "image/png": "[encoded data removed]",
      "text/plain": [
       "<Figure size 432x288 with 1 Axes>"
      ]
     },
     "metadata": {},
     "output_type": "display_data"
    }
   ],
   "source": [
    "threshold_list=[0.1,0.2,0.3,0.4,0.5,0.6,0.7,0.8,0.9,1]\n",
    "sens=[recall_score(y_test,binarize(pred_prob,thresh)[:,1]) for thresh  in threshold_list]\n",
    "spec=[specificity(y_test,binarize(pred_prob,thresh)[:,1]) for thresh in threshold_list]\n",
    "plt.plot(spec,sens)\n",
    "plt.title('Changes in Sensitivity and Specificity as we change threshold value.')\n",
    "plt.xlabel('Specificity')\n",
    "plt.ylabel('Sensitivity')"
   ]
  },
  {
   "cell_type": "markdown",
   "metadata": {},
   "source": [
    "Here we notice that as our sensitivity reduces our specificity increases indicating a inverse realtion between the two.\n",
    "To plot a similar graph while comparing False Positive Rate and True Positive Rate we use scikit-learns function roc_curve to plot such a graph."
   ]
  },
  {
   "cell_type": "markdown",
   "metadata": {},
   "source": [
    "The ROC Curve or Reciever Operating Characteristics Curve is basically a line plotted on a graph showing the relation between specificity and sensitivity. For every threshold that we evaluate the False Positive Rate(1-Specificity) and the True Positive Rate(Sensitivity) is calculated and the points are plotted on a graph.\n",
    "\n",
    "Note: False Positive Rate is 1-Specificity, so the False Positive Rate(Fall-out Rate) and True Positive Rate(Sensitivity) are directly related."
   ]
  },
  {
   "cell_type": "code",
   "execution_count": 27,
   "metadata": {},
   "outputs": [
    {
     "data": {
      "image/png": "[encoded data removed]",
      "text/plain": [
       "<Figure size 864x432 with 1 Axes>"
      ]
     },
     "metadata": {},
     "output_type": "display_data"
    }
   ],
   "source": [
    "fpr, tpr, thresholds = roc_curve(y_test, pred_prob[:,1])\n",
    "plt.figure(figsize=(12,6))\n",
    "sns.lineplot(fpr, tpr)\n",
    "plt.rcParams['font.size'] = 12\n",
    "plt.title('ROC curve for Candidate classifier')\n",
    "plt.xlabel('False Positive Rate (1 - Specificity)')\n",
    "plt.ylabel('True Positive Rate (Sensitivity)')\n",
    "plt.show()"
   ]
  },
  {
   "cell_type": "code",
   "execution_count": 28,
   "metadata": {},
   "outputs": [
    {
     "data": {
      "text/plain": [
       "0.3539990105861701"
      ]
     },
     "execution_count": 28,
     "metadata": {},
     "output_type": "execute_result"
    }
   ],
   "source": [
    "thresholds.mean()"
   ]
  },
  {
   "cell_type": "markdown",
   "metadata": {},
   "source": [
    "Although this shows us how our false positive rate and true positive rate change based on our threshold value. It doesnt tell us the best threshold value. This is a value we would have to decide on based on our business problem.\n",
    "\n",
    "Ideally for our problem we would need a value with high specificity and low sensitivity, but This is where domain knowledge comes into play. If our \"cost\" of false positive is high we would want to select a high specificity level of 95% to ensure that costs are at a minimal. Hence we select the corresponding threshold value of a 95% specificity level in our case this threshold value is 0.5.\n",
    "\n",
    "Although in our case if we consider 95% of our candidates as bad. We would incur a large opportunity cost as now most of the candidates that have a low chance of defaulting are also now considered bad and hence not given a loan. This could be a bad decision for the business. As we have costs with both a high and low specificity level our best option is to select one in the range of 0.3-0.4. As a moderate threshold value.\n",
    "\n",
    "Coming to the best optimal threshold value can also be converted into optimization problem. Where we try to optimize a function that takes into account both specificity and sensitivity."
   ]
  },
  {
   "cell_type": "markdown",
   "metadata": {},
   "source": [
    "Now we know that the most ideal model would have a high specificity value and a high sensitivity too. This would be the most idealistic situation.\n",
    "\n",
    "If we had to plot a line that touches a point that had both these values quite high, a good indicator would be the area under the line as a measure of a high specificity and high sensitivity.\n",
    "\n",
    "So essentially if we had a high specificity and sensitivity the area under the curve should be high as well. This becomes a direct measure of our model as it ensures the following:\n",
    "\n",
    "-  High specificity\n",
    "-  High sensitivity\n",
    "-  It is unaffected by huge class imbalances\n",
    "-  does not require a specified threshold value as it is a measure for all  such threshold values."
   ]
  },
  {
   "cell_type": "code",
   "execution_count": 29,
   "metadata": {},
   "outputs": [
    {
     "name": "stdout",
     "output_type": "stream",
     "text": [
      "The area under the curve in percentage of the entire graphs is 0.78 %\n"
     ]
    }
   ],
   "source": [
    "print('The area under the curve in percentage of the entire graphs is',round(roc_auc_score(y_test,pred_prob[:,1]),2),'%')"
   ]
  },
  {
   "cell_type": "markdown",
   "metadata": {},
   "source": [
    "This essentially how well our model performed irrespective of the threshold value selected."
   ]
  },
  {
   "cell_type": "markdown",
   "metadata": {},
   "source": [
    "Cross validating and checking the mean and standard deviation of the Area under the curve."
   ]
  },
  {
   "cell_type": "code",
   "execution_count": 30,
   "metadata": {},
   "outputs": [
    {
     "name": "stdout",
     "output_type": "stream",
     "text": [
      "The Mean AUC Score for our model is 0.78 % and the standard deviation is 0.05\n"
     ]
    }
   ],
   "source": [
    "cross_val_scores=cross_val_score(rfc,X,y,cv=10,scoring='roc_auc')\n",
    "print('The Mean AUC Score for our model is',round(cross_val_scores.mean(),2),'%','and the standard deviation is',round(cross_val_scores.std(),2))"
   ]
  },
  {
   "cell_type": "markdown",
   "metadata": {},
   "source": [
    "## Visualizing Decision boundaries using the mlextend library."
   ]
  },
  {
   "cell_type": "code",
   "execution_count": 47,
   "metadata": {},
   "outputs": [
    {
     "data": {
      "text/plain": [
       "checking_status_'no checking'    0.157738\n",
       "credit_amount                    0.124767\n",
       "dtype: float64"
      ]
     },
     "execution_count": 47,
     "metadata": {},
     "output_type": "execute_result"
    }
   ],
   "source": [
    "# First we select the two most important features for our visualizations.\n",
    "pd.Series(dict(zip(X.columns,rfc.feature_importances_))).sort_values(ascending=False)[0:2]"
   ]
  },
  {
   "cell_type": "code",
   "execution_count": 88,
   "metadata": {},
   "outputs": [],
   "source": [
    "# Segregating them into X_train and y_train while only taking two variables.\n",
    "X_train=X[[\"checking_status_'no checking'\",\"credit_amount\"]].values\n",
    "y_train=y.values"
   ]
  },
  {
   "cell_type": "code",
   "execution_count": 89,
   "metadata": {},
   "outputs": [
    {
     "data": {
      "text/plain": [
       "GaussianNB(priors=None, var_smoothing=1e-09)"
      ]
     },
     "execution_count": 89,
     "metadata": {},
     "output_type": "execute_result"
    }
   ],
   "source": [
    "rfc=RandomForestClassifier()\n",
    "rfc.fit(X_train,y_train)\n",
    "\n",
    "lg=LogisticRegression()\n",
    "lg.fit(X_train,y_train)\n",
    "\n",
    "gnb=GaussianNB()\n",
    "gnb.fit(X_train,y_train)"
   ]
  },
  {
   "cell_type": "code",
   "execution_count": 100,
   "metadata": {},
   "outputs": [
    {
     "data": {
      "image/png": "[encoded data removed]",
      "text/plain": [
       "<Figure size 864x432 with 1 Axes>"
      ]
     },
     "metadata": {},
     "output_type": "display_data"
    }
   ],
   "source": [
    "# Visualizations for the Random Forrest Classifier.\n",
    "plt.figure(figsize=(12,6))\n",
    "plot_rfc=plot_decision_regions(X=X_train, y=y_train, clf=rfc)"
   ]
  },
  {
   "cell_type": "markdown",
   "metadata": {},
   "source": [
    "Here we notice that the random forrest classifier tries to segregate every data point perfectly. This shows us that the model is in fact overfitting the data."
   ]
  },
  {
   "cell_type": "code",
   "execution_count": 101,
   "metadata": {},
   "outputs": [
    {
     "data": {
      "image/png": "[encoded data removed]",
      "text/plain": [
       "<Figure size 864x432 with 1 Axes>"
      ]
     },
     "metadata": {},
     "output_type": "display_data"
    }
   ],
   "source": [
    "# Visualizations for the Logistic Regression Classifier\n",
    "plt.figure(figsize=(12,6))\n",
    "plot_lg=plot_decision_regions(X=X_train, y=y_train, clf=lg)"
   ]
  },
  {
   "cell_type": "markdown",
   "metadata": {},
   "source": [
    "The Logistic Regression Classifier is more generalizable and doesnt overfit the data."
   ]
  },
  {
   "cell_type": "code",
   "execution_count": 99,
   "metadata": {},
   "outputs": [
    {
     "data": {
      "image/png": "[encoded data removed]",
      "text/plain": [
       "<Figure size 864x432 with 1 Axes>"
      ]
     },
     "metadata": {},
     "output_type": "display_data"
    }
   ],
   "source": [
    "# Visualizations for the GaussianNB Classifier\n",
    "plt.figure(figsize=(12,6))\n",
    "plot_gnb=plot_decision_regions(X=X_train, y=y_train, clf=gnb)"
   ]
  },
  {
   "cell_type": "markdown",
   "metadata": {},
   "source": [
    "The GaussianNB Classifier does a better job than the logistic regression classifier  as it "
   ]
  }
 ],
 "metadata": {
  "kernelspec": {
   "display_name": "Python 3",
   "language": "python",
   "name": "python3"
  },
  "language_info": {
   "codemirror_mode": {
    "name": "ipython",
    "version": 3
   },
   "file_extension": ".py",
   "mimetype": "text/x-python",
   "name": "python",
   "nbconvert_exporter": "python",
   "pygments_lexer": "ipython3",
   "version": "3.6.5"
  }
 },
 "nbformat": 4,
 "nbformat_minor": 2
}
